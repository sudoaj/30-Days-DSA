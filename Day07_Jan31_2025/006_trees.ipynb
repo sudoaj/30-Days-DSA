{
 "cells": [
  {
   "cell_type": "markdown",
   "metadata": {},
   "source": [
    "\n",
    "\n",
    "Imagine a tree in your backyard. It has a big trunk, branches, and leaves. In computer science, a tree is a way to organize information that looks a bit like this real tree.\n",
    "\n",
    "1. **Root**: The root is like the trunk of the tree. It's the starting point. In our backyard tree, it's where the tree begins growing out of the ground.\n",
    "\n",
    "2. **Nodes**: These are like the branches and leaves. Each node can have its own branches (called children). The root is also a node.\n",
    "\n",
    "3. **Edges**: These are like the connections between the trunk, branches, and leaves. They show how everything is connected.\n",
    "\n",
    "Here's a simple picture of a tree:\n",
    "\n",
    "```\n",
    "    A\n",
    "   / \\\n",
    "  B   C\n",
    " / \\\n",
    "D   E\n",
    "```\n",
    "\n",
    "- **A** is the root.\n",
    "- **B** and **C** are children of **A**.\n",
    "- **D** and **E** are children of **B**.\n",
    "\n",
    "In this tree:\n",
    "- **A** is connected to **B** and **C**.\n",
    "- **B** is connected to **D** and **E**.\n",
    "\n",
    "That's it! A tree helps us organize information in a way that's easy to understand and work with."
   ]
  },
  {
   "cell_type": "markdown",
   "metadata": {},
   "source": [
    "In computer science, a tree is a widely used abstract data type that simulates a hierarchical tree structure, with a root value and subtrees of children with a parent node, represented as a set of linked nodes.\n",
    "\n",
    "1. **Root**: The top node of the tree, which has no parent. It serves as the origin from which all nodes descend.\n",
    "\n",
    "2. **Nodes**: Each element in the tree. Nodes contain a value or condition, and they may have a parent node and zero or more child nodes.\n",
    "\n",
    "3. **Edges**: The connections between nodes. An edge connects a parent node to a child node.\n",
    "\n",
    "4. **Leaf Nodes**: Nodes that do not have any children. They are the terminal nodes of the tree.\n",
    "\n",
    "5. **Internal Nodes**: Nodes that have at least one child. They are not leaf nodes.\n",
    "\n",
    "6. **Subtree**: A tree consisting of a node and its descendants.\n",
    "\n",
    "7. **Height of a Tree**: The length of the longest path from the root to a leaf.\n",
    "\n",
    "8. **Depth of a Node**: The length of the path from the root to the node.\n",
    "\n",
    "Here's a simple representation of a tree:\n",
    "\n",
    "- **A** is the root.\n",
    "- **B** and **C** are children of **A**.\n",
    "- **D** and **E** are children of **B**.\n",
    "- **D** and **E** are leaf nodes.\n",
    "- **A** and **B** are internal nodes.\n",
    "- The height of the tree is 2 (longest path from A to D or E).\n",
    "- The depth of node D is 2 (path from A to B to D).\n"
   ]
  },
  {
   "cell_type": "code",
   "execution_count": 1,
   "metadata": {},
   "outputs": [
    {
     "name": "stdout",
     "output_type": "stream",
     "text": [
      "A\n",
      "B\n",
      "D\n",
      "E\n",
      "C\n"
     ]
    }
   ],
   "source": [
    "class TreeNode:\n",
    "    def __init__(self, value):\n",
    "        self.value = value\n",
    "        self.children = []\n",
    "\n",
    "    def add_child(self, child_node):\n",
    "        self.children.append(child_node)\n",
    "\n",
    "    def remove_child(self, child_node):\n",
    "        self.children = [child for child in self.children if child is not child_node]\n",
    "\n",
    "    def traverse(self):\n",
    "        print(self.value)\n",
    "        for child in self.children:\n",
    "            child.traverse()\n",
    "\n",
    "# Example usage:\n",
    "# Create the root node\n",
    "root = TreeNode('A')\n",
    "\n",
    "# Create child nodes\n",
    "child_b = TreeNode('B')\n",
    "child_c = TreeNode('C')\n",
    "\n",
    "# Add children to root\n",
    "root.add_child(child_b)\n",
    "root.add_child(child_c)\n",
    "\n",
    "# Create grandchildren\n",
    "child_d = TreeNode('D')\n",
    "child_e = TreeNode('E')\n",
    "\n",
    "# Add grandchildren to child_b\n",
    "child_b.add_child(child_d)\n",
    "child_b.add_child(child_e)\n",
    "\n",
    "# Traverse the tree\n",
    "root.traverse()"
   ]
  }
 ],
 "metadata": {
  "kernelspec": {
   "display_name": "Python 3",
   "language": "python",
   "name": "python3"
  },
  "language_info": {
   "codemirror_mode": {
    "name": "ipython",
    "version": 3
   },
   "file_extension": ".py",
   "mimetype": "text/x-python",
   "name": "python",
   "nbconvert_exporter": "python",
   "pygments_lexer": "ipython3",
   "version": "3.9.6"
  }
 },
 "nbformat": 4,
 "nbformat_minor": 2
}
