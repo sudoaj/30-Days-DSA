{
 "cells": [
  {
   "cell_type": "code",
   "execution_count": 2,
   "metadata": {},
   "outputs": [
    {
     "name": "stdout",
     "output_type": "stream",
     "text": [
      "[20, 30, 40, 50, 60, 70, 80]\n",
      "<__main__.Node object at 0x103720670>\n",
      "None\n"
     ]
    }
   ],
   "source": [
    "class Node:\n",
    "    def __init__(self, key):\n",
    "        self.left = None\n",
    "        self.right = None\n",
    "        self.val = key\n",
    "\n",
    "class BinarySearchTree:\n",
    "    def __init__(self):\n",
    "        self.root = None\n",
    "\n",
    "    def insert(self, key):\n",
    "        if self.root is None:\n",
    "            self.root = Node(key)\n",
    "        else:\n",
    "            self._insert(self.root, key)\n",
    "\n",
    "    def _insert(self, root, key):\n",
    "        if key < root.val:\n",
    "            if root.left is None:\n",
    "                root.left = Node(key)\n",
    "            else:\n",
    "                self._insert(root.left, key)\n",
    "        else:\n",
    "            if root.right is None:\n",
    "                root.right = Node(key)\n",
    "            else:\n",
    "                self._insert(root.right, key)\n",
    "\n",
    "    def search(self, key):\n",
    "        return self._search(self.root, key)\n",
    "\n",
    "    def _search(self, root, key):\n",
    "        if root is None or root.val == key:\n",
    "            return root\n",
    "        if key < root.val:\n",
    "            return self._search(root.left, key)\n",
    "        return self._search(root.right, key)\n",
    "\n",
    "    def inorder(self):\n",
    "        return self._inorder(self.root)\n",
    "\n",
    "    def _inorder(self, root):\n",
    "        res = []\n",
    "        if root:\n",
    "            res = self._inorder(root.left)\n",
    "            res.append(root.val)\n",
    "            res = res + self._inorder(root.right)\n",
    "        return res\n",
    "\n",
    "# Example usage:\n",
    "bst = BinarySearchTree()\n",
    "bst.insert(50)\n",
    "bst.insert(30)\n",
    "bst.insert(20)\n",
    "bst.insert(40)\n",
    "bst.insert(70)\n",
    "bst.insert(60)\n",
    "bst.insert(80)\n",
    "print(bst.inorder())  # Output: [20, 30, 40, 50, 60, 70, 80]\n",
    "print(bst.search(40))  # Output: <__main__.Node object at 0x...>\n",
    "print(bst.search(100))  # Output: None"
   ]
  },
  {
   "cell_type": "code",
   "execution_count": 3,
   "metadata": {},
   "outputs": [
    {
     "name": "stdout",
     "output_type": "stream",
     "text": [
      "Employee(ID: 1002, Name: Bob, Position: Developer)\n",
      "None\n"
     ]
    }
   ],
   "source": [
    "# Define a class for Employee\n",
    "class Employee:\n",
    "    def __init__(self, emp_id, name, position):\n",
    "        self.emp_id = emp_id\n",
    "        self.name = name\n",
    "        self.position = position\n",
    "\n",
    "    def __repr__(self):\n",
    "        return f\"Employee(ID: {self.emp_id}, Name: {self.name}, Position: {self.position})\"\n",
    "\n",
    "# Extend the Node class to store Employee objects\n",
    "class EmployeeNode(Node):\n",
    "    def __init__(self, employee):\n",
    "        super().__init__(employee.emp_id)\n",
    "        self.employee = employee\n",
    "\n",
    "# Extend the BinarySearchTree class to handle EmployeeNode\n",
    "class EmployeeBST(BinarySearchTree):\n",
    "    def insert(self, employee):\n",
    "        if self.root is None:\n",
    "            self.root = EmployeeNode(employee)\n",
    "        else:\n",
    "            self._insert(self.root, employee)\n",
    "\n",
    "    def _insert(self, root, employee):\n",
    "        if employee.emp_id < root.val:\n",
    "            if root.left is None:\n",
    "                root.left = EmployeeNode(employee)\n",
    "            else:\n",
    "                self._insert(root.left, employee)\n",
    "        else:\n",
    "            if root.right is None:\n",
    "                root.right = EmployeeNode(employee)\n",
    "            else:\n",
    "                self._insert(root.right, employee)\n",
    "\n",
    "    def search(self, emp_id):\n",
    "        node = self._search(self.root, emp_id)\n",
    "        return node.employee if node else None\n",
    "\n",
    "# Example usage:\n",
    "emp_bst = EmployeeBST()\n",
    "emp_bst.insert(Employee(1001, \"Alice\", \"Manager\"))\n",
    "emp_bst.insert(Employee(1002, \"Bob\", \"Developer\"))\n",
    "emp_bst.insert(Employee(1003, \"Charlie\", \"Designer\"))\n",
    "\n",
    "# Search for an employee by ID\n",
    "print(emp_bst.search(1002))  # Output: Employee(ID: 1002, Name: Bob, Position: Developer)\n",
    "print(emp_bst.search(1004))  # Output: None"
   ]
  },
  {
   "cell_type": "code",
   "execution_count": 4,
   "metadata": {},
   "outputs": [
    {
     "name": "stdout",
     "output_type": "stream",
     "text": [
      "Aircraft(ID: 2002, Model: Airbus A320, Altitude: 30000)\n",
      "None\n"
     ]
    }
   ],
   "source": [
    "# Define a class for Aircraft\n",
    "class Aircraft:\n",
    "    def __init__(self, aircraft_id, model, altitude):\n",
    "        self.aircraft_id = aircraft_id\n",
    "        self.model = model\n",
    "        self.altitude = altitude\n",
    "\n",
    "    def __repr__(self):\n",
    "        return f\"Aircraft(ID: {self.aircraft_id}, Model: {self.model}, Altitude: {self.altitude})\"\n",
    "\n",
    "# Extend the Node class to store Aircraft objects\n",
    "class AircraftNode(Node):\n",
    "    def __init__(self, aircraft):\n",
    "        super().__init__(aircraft.aircraft_id)\n",
    "        self.aircraft = aircraft\n",
    "\n",
    "# Extend the BinarySearchTree class to handle AircraftNode\n",
    "class AirTrafficControl(BinarySearchTree):\n",
    "    def insert(self, aircraft):\n",
    "        if self.root is None:\n",
    "            self.root = AircraftNode(aircraft)\n",
    "        else:\n",
    "            self._insert(self.root, aircraft)\n",
    "\n",
    "    def _insert(self, root, aircraft):\n",
    "        if aircraft.aircraft_id < root.val:\n",
    "            if root.left is None:\n",
    "                root.left = AircraftNode(aircraft)\n",
    "            else:\n",
    "                self._insert(root.left, aircraft)\n",
    "        else:\n",
    "            if root.right is None:\n",
    "                root.right = AircraftNode(aircraft)\n",
    "            else:\n",
    "                self._insert(root.right, aircraft)\n",
    "\n",
    "    def search(self, aircraft_id):\n",
    "        node = self._search(self.root, aircraft_id)\n",
    "        return node.aircraft if node else None\n",
    "\n",
    "# Example usage:\n",
    "atc = AirTrafficControl()\n",
    "atc.insert(Aircraft(2001, \"Boeing 747\", 35000))\n",
    "atc.insert(Aircraft(2002, \"Airbus A320\", 30000))\n",
    "atc.insert(Aircraft(2003, \"Cessna 172\", 10000))\n",
    "\n",
    "# Search for an aircraft by ID\n",
    "print(atc.search(2002))  # Output: Aircraft(ID: 2002, Model: Airbus A320, Altitude: 30000)\n",
    "print(atc.search(2004))  # Output: None"
   ]
  },
  {
   "cell_type": "code",
   "execution_count": 5,
   "metadata": {},
   "outputs": [
    {
     "name": "stdout",
     "output_type": "stream",
     "text": [
      "Aircraft(ID: 2004, Model: Boeing 737, Altitude: 33000)\n",
      "Aircraft(ID: 2005, Model: Airbus A380, Altitude: 37000)\n"
     ]
    }
   ],
   "source": [
    "def add_aircraft(atc, aircraft_id, model, altitude):\n",
    "    aircraft = Aircraft(aircraft_id, model, altitude)\n",
    "    atc.insert(aircraft)\n",
    "\n",
    "# Example usage:\n",
    "add_aircraft(atc, 2004, \"Boeing 737\", 33000)\n",
    "add_aircraft(atc, 2005, \"Airbus A380\", 37000)\n",
    "\n",
    "# Verify the new aircrafts are added\n",
    "print(atc.search(2004))  # Output: Aircraft(ID: 2004, Model: Boeing 737, Altitude: 33000)\n",
    "print(atc.search(2005))  # Output: Aircraft(ID: 2005, Model: Airbus A380, Altitude: 37000)"
   ]
  }
 ],
 "metadata": {
  "kernelspec": {
   "display_name": "Python 3",
   "language": "python",
   "name": "python3"
  },
  "language_info": {
   "codemirror_mode": {
    "name": "ipython",
    "version": 3
   },
   "file_extension": ".py",
   "mimetype": "text/x-python",
   "name": "python",
   "nbconvert_exporter": "python",
   "pygments_lexer": "ipython3",
   "version": "3.9.6"
  }
 },
 "nbformat": 4,
 "nbformat_minor": 2
}
