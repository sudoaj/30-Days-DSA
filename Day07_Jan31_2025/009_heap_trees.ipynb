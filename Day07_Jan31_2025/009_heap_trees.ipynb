{
 "cells": [
  {
   "cell_type": "code",
   "execution_count": null,
   "metadata": {},
   "outputs": [],
   "source": [
    "10\n",
    "      /  \\\n",
    "     9    8\n",
    "    / \\  / \\\n",
    "   7  6 5  4"
   ]
  },
  {
   "cell_type": "markdown",
   "metadata": {},
   "source": [
    "A heap is a specialized tree-based data structure that satisfies the heap property. There are two types of heaps: max-heaps and min-heaps.\n",
    "\n",
    "1. **Max-Heap**: In a max-heap, for any given node `i`, the value of `i` is greater than or equal to the values of its children. The highest value is at the root of the tree.\n",
    "\n",
    "2. **Min-Heap**: In a min-heap, for any given node `i`, the value of `i` is less than or equal to the values of its children. The lowest value is at the root of the tree.\n",
    "\n",
    "Heaps are commonly used to implement priority queues because they allow efficient access to the highest (or lowest) priority element. The operations of insertion, deletion, and finding the maximum (or minimum) element can be performed in logarithmic time.\n",
    "\n",
    "The structure of a heap is typically represented as a binary tree, where each parent node has at most two children. The tree is usually complete, meaning all levels are fully filled except possibly for the last level, which is filled from left to right."
   ]
  },
  {
   "cell_type": "code",
   "execution_count": 1,
   "metadata": {},
   "outputs": [
    {
     "name": "stdout",
     "output_type": "stream",
     "text": [
      "Heap after insertions: [10, 9, 8, 7, 6, 5, 4]\n",
      "Deleted max value: 10\n",
      "Heap after deletion: [9, 7, 8, 4, 6, 5]\n"
     ]
    }
   ],
   "source": [
    "class Heap:\n",
    "    def __init__(self):\n",
    "        self.heap = []\n",
    "\n",
    "    def insert(self, element):\n",
    "        self.heap.append(element)\n",
    "        self._heapify_up(len(self.heap) - 1)\n",
    "\n",
    "    def delete(self):\n",
    "        if len(self.heap) > 1:\n",
    "            self._swap(0, len(self.heap) - 1)\n",
    "            max_value = self.heap.pop()\n",
    "            self._heapify_down(0)\n",
    "        elif self.heap:\n",
    "            max_value = self.heap.pop()\n",
    "        else:\n",
    "            max_value = None\n",
    "        return max_value\n",
    "\n",
    "    def _heapify_up(self, index):\n",
    "        parent_index = (index - 1) // 2\n",
    "        if index > 0 and self.heap[index] > self.heap[parent_index]:\n",
    "            self._swap(index, parent_index)\n",
    "            self._heapify_up(parent_index)\n",
    "\n",
    "    def _heapify_down(self, index):\n",
    "        left_child_index = 2 * index + 1\n",
    "        right_child_index = 2 * index + 2\n",
    "        largest = index\n",
    "\n",
    "        if left_child_index < len(self.heap) and self.heap[left_child_index] > self.heap[largest]:\n",
    "            largest = left_child_index\n",
    "\n",
    "        if right_child_index < len(self.heap) and self.heap[right_child_index] > self.heap[largest]:\n",
    "            largest = right_child_index\n",
    "\n",
    "        if largest != index:\n",
    "            self._swap(index, largest)\n",
    "            self._heapify_down(largest)\n",
    "\n",
    "    def _swap(self, i, j):\n",
    "        self.heap[i], self.heap[j] = self.heap[j], self.heap[i]\n",
    "\n",
    "    def __str__(self):\n",
    "        return str(self.heap)\n",
    "\n",
    "# Example usage\n",
    "heap = Heap()\n",
    "heap.insert(10)\n",
    "heap.insert(9)\n",
    "heap.insert(8)\n",
    "heap.insert(7)\n",
    "heap.insert(6)\n",
    "heap.insert(5)\n",
    "heap.insert(4)\n",
    "print(\"Heap after insertions:\", heap)\n",
    "\n",
    "max_value = heap.delete()\n",
    "print(\"Deleted max value:\", max_value)\n",
    "print(\"Heap after deletion:\", heap)"
   ]
  },
  {
   "cell_type": "code",
   "execution_count": 3,
   "metadata": {},
   "outputs": [
    {
     "name": "stdout",
     "output_type": "stream",
     "text": [
      "Priority Queue after insertions: ['High priority task', 'Low priority task', 'Medium priority task', 'Very low priority task']\n",
      "Deleted highest priority task: High priority task\n",
      "Priority Queue after deletion: ['Medium priority task', 'Low priority task', 'Very low priority task']\n"
     ]
    }
   ],
   "source": [
    "class PriorityQueue:\n",
    "    def __init__(self):\n",
    "        self.heap = []\n",
    "\n",
    "    def insert(self, priority, task):\n",
    "        self.heap.append((priority, task))\n",
    "        self._heapify_up(len(self.heap) - 1)\n",
    "\n",
    "    def delete(self):\n",
    "        if len(self.heap) > 1:\n",
    "            self._swap(0, len(self.heap) - 1)\n",
    "            max_task = self.heap.pop()\n",
    "            self._heapify_down(0)\n",
    "        elif self.heap:\n",
    "            max_task = self.heap.pop()\n",
    "        else:\n",
    "            max_task = None\n",
    "        return max_task\n",
    "\n",
    "    def _heapify_up(self, index):\n",
    "        parent_index = (index - 1) // 2\n",
    "        if index > 0 and self.heap[index][0] > self.heap[parent_index][0]:\n",
    "            self._swap(index, parent_index)\n",
    "            self._heapify_up(parent_index)\n",
    "\n",
    "    def _heapify_down(self, index):\n",
    "        left_child_index = 2 * index + 1\n",
    "        right_child_index = 2 * index + 2\n",
    "        largest = index\n",
    "\n",
    "        if left_child_index < len(self.heap) and self.heap[left_child_index][0] > self.heap[largest][0]:\n",
    "            largest = left_child_index\n",
    "\n",
    "        if right_child_index < len(self.heap) and self.heap[right_child_index][0] > self.heap[largest][0]:\n",
    "            largest = right_child_index\n",
    "\n",
    "        if largest != index:\n",
    "            self._swap(index, largest)\n",
    "            self._heapify_down(largest)\n",
    "\n",
    "    def _swap(self, i, j):\n",
    "        self.heap[i], self.heap[j] = self.heap[j], self.heap[i]\n",
    "\n",
    "    def __str__(self):\n",
    "        return str([task for priority, task in self.heap])\n",
    "\n",
    "# Example usage\n",
    "pq = PriorityQueue()\n",
    "pq.insert(3, \"Low priority task\")\n",
    "pq.insert(5, \"Medium priority task\")\n",
    "pq.insert(10, \"High priority task\")\n",
    "pq.insert(1, \"Very low priority task\")\n",
    "\n",
    "print(\"Priority Queue after insertions:\", pq)\n",
    "\n",
    "max_task = pq.delete()\n",
    "print(\"Deleted highest priority task:\", max_task[1])\n",
    "print(\"Priority Queue after deletion:\", pq)"
   ]
  }
 ],
 "metadata": {
  "kernelspec": {
   "display_name": "Python 3",
   "language": "python",
   "name": "python3"
  },
  "language_info": {
   "codemirror_mode": {
    "name": "ipython",
    "version": 3
   },
   "file_extension": ".py",
   "mimetype": "text/x-python",
   "name": "python",
   "nbconvert_exporter": "python",
   "pygments_lexer": "ipython3",
   "version": "3.9.6"
  }
 },
 "nbformat": 4,
 "nbformat_minor": 2
}
