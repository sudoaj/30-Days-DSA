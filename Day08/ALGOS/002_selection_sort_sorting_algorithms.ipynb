{
 "cells": [
  {
   "cell_type": "markdown",
   "metadata": {},
   "source": [
    "# Selection Sort Algorithm\n",
    "\n",
    "Selection sort is a simple comparison-based sorting algorithm. It works by repeatedly selecting the smallest (or largest, depending on the sorting order) element from the unsorted portion of the list and moving it to the beginning (or end) of the sorted portion.\n",
    "\n",
    "## How Selection Sort Works\n",
    "\n",
    "1. **Initialization**: Start with the first element of the array.\n",
    "2. **Find the Minimum**: Find the smallest element in the unsorted portion of the array.\n",
    "3. **Swap**: Swap the found minimum element with the first element of the unsorted portion.\n",
    "4. **Repeat**: Move the boundary between the sorted and unsorted portions one element to the right and repeat the process until the entire array is sorted.\n",
    "\n",
    "## Example\n",
    "\n",
    "Consider the following array:\n",
    "\n",
    "```\n",
    "arr = [64, 25, 12, 22, 11]\n",
    "```\n",
    "\n",
    "### Step-by-Step Execution\n",
    "\n",
    "1. **Initial Array**: `[64, 25, 12, 22, 11]`\n",
    "2. **Find Minimum**: The smallest element is `11`. Swap `11` with `64`.\n",
    "    - Array after swap: `[11, 25, 12, 22, 64]`\n",
    "3. **Next Iteration**: Consider the subarray `[25, 12, 22, 64]`.\n",
    "    - Find the smallest element `12`. Swap `12` with `25`.\n",
    "    - Array after swap: `[11, 12, 25, 22, 64]`\n",
    "4. **Next Iteration**: Consider the subarray `[25, 22, 64]`.\n",
    "    - Find the smallest element `22`. Swap `22` with `25`.\n",
    "    - Array after swap: `[11, 12, 22, 25, 64]`\n",
    "5. **Next Iteration**: Consider the subarray `[25, 64]`.\n",
    "    - The smallest element is `25`. No swap needed.\n",
    "    - Array remains: `[11, 12, 22, 25, 64]`\n",
    "6. **Final Array**: `[11, 12, 22, 25, 64]`\n",
    "\n",
    "The array is now sorted.\n",
    "\n",
    "## Complexity\n",
    "\n",
    "- **Time Complexity**: O(n^2) in all cases (best, average, and worst) because it always involves nested loops.\n",
    "- **Space Complexity**: O(1) because it is an in-place sorting algorithm.\n",
    "\n",
    "Selection sort is not suitable for large datasets due to its quadratic time complexity, but it is easy to understand and implement."
   ]
  },
  {
   "cell_type": "code",
   "execution_count": 1,
   "metadata": {},
   "outputs": [
    {
     "name": "stdout",
     "output_type": "stream",
     "text": [
      "Sorted array: [11, 12, 22, 25, 64]\n"
     ]
    }
   ],
   "source": [
    "def selection_sort(arr):\n",
    "    n = len(arr)\n",
    "    for i in range(n):\n",
    "        min_idx = i\n",
    "        for j in range(i+1, n):\n",
    "            if arr[j] < arr[min_idx]:\n",
    "                min_idx = j\n",
    "        arr[i], arr[min_idx] = arr[min_idx], arr[i]\n",
    "    return arr\n",
    "\n",
    "# Example usage\n",
    "arr = [64, 25, 12, 22, 11]\n",
    "sorted_arr = selection_sort(arr)\n",
    "print(\"Sorted array:\", sorted_arr)"
   ]
  },
  {
   "cell_type": "code",
   "execution_count": 4,
   "metadata": {},
   "outputs": [
    {
     "name": "stdout",
     "output_type": "stream",
     "text": [
      "Sorted array: [11, 12, 22, 25, 64]\n",
      "Time taken: 4.0531158447265625e-06 seconds\n"
     ]
    }
   ],
   "source": [
    "import time\n",
    "\n",
    "def selection_sort_with_timing(arr):\n",
    "    start_time = time.time()\n",
    "    n = len(arr)\n",
    "    for i in range(n):\n",
    "        min_idx = i\n",
    "        for j in range(i+1, n):\n",
    "            if arr[j] < arr[min_idx]:\n",
    "                min_idx = j\n",
    "        arr[i], arr[min_idx] = arr[min_idx], arr[i]\n",
    "    end_time = time.time()\n",
    "    elapsed_time = end_time - start_time\n",
    "    return arr, elapsed_time\n",
    "\n",
    "# Example usage\n",
    "arr = [64, 25, 12, 22, 11]\n",
    "sorted_arr, time_taken = selection_sort_with_timing(arr)\n",
    "print(\"Sorted array:\", sorted_arr)\n",
    "print(\"Time taken:\", time_taken, \"seconds\")"
   ]
  }
 ],
 "metadata": {
  "kernelspec": {
   "display_name": "Python 3",
   "language": "python",
   "name": "python3"
  },
  "language_info": {
   "codemirror_mode": {
    "name": "ipython",
    "version": 3
   },
   "file_extension": ".py",
   "mimetype": "text/x-python",
   "name": "python",
   "nbconvert_exporter": "python",
   "pygments_lexer": "ipython3",
   "version": "3.9.6"
  }
 },
 "nbformat": 4,
 "nbformat_minor": 2
}
