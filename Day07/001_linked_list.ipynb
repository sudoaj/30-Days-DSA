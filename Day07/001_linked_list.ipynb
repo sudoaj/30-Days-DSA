{
 "cells": [
  {
   "cell_type": "code",
   "execution_count": 1,
   "metadata": {},
   "outputs": [
    {
     "name": "stdout",
     "output_type": "stream",
     "text": [
      "[1, 2, 3]\n",
      "[1, 4, 2, 3]\n",
      "[1, 4, 3]\n"
     ]
    }
   ],
   "source": [
    "class Node:\n",
    "    def __init__(self, data=None):\n",
    "        self.data = data\n",
    "        self.next = None\n",
    "\n",
    "class LinkedList:\n",
    "    def __init__(self):\n",
    "        self.head = None\n",
    "\n",
    "    def append(self, data):\n",
    "        new_node = Node(data)\n",
    "        if self.head is None:\n",
    "            self.head = new_node\n",
    "            return\n",
    "        last = self.head\n",
    "        while last.next:\n",
    "            last = last.next\n",
    "        last.next = new_node\n",
    "\n",
    "    def display(self):\n",
    "        elems = []\n",
    "        current = self.head\n",
    "        while current:\n",
    "            elems.append(current.data)\n",
    "            current = current.next\n",
    "        print(elems)\n",
    "\n",
    "    def insert(self, data, position):\n",
    "        new_node = Node(data)\n",
    "        if position == 0:\n",
    "            new_node.next = self.head\n",
    "            self.head = new_node\n",
    "            return\n",
    "        current = self.head\n",
    "        for _ in range(position - 1):\n",
    "            if current is None:\n",
    "                raise IndexError(\"Position out of bounds\")\n",
    "            current = current.next\n",
    "        new_node.next = current.next\n",
    "        current.next = new_node\n",
    "\n",
    "    def delete(self, key):\n",
    "        current = self.head\n",
    "        if current is not None:\n",
    "            if current.data == key:\n",
    "                self.head = current.next\n",
    "                current = None\n",
    "                return\n",
    "        while current is not None:\n",
    "            if current.data == key:\n",
    "                break\n",
    "            prev = current\n",
    "            current = current.next\n",
    "        if current == None:\n",
    "            return\n",
    "        prev.next = current.next\n",
    "        current = None\n",
    "\n",
    "# Example usage:\n",
    "ll = LinkedList()\n",
    "ll.append(1)\n",
    "ll.append(2)\n",
    "ll.append(3)\n",
    "ll.display()  # Output: [1, 2, 3]\n",
    "ll.insert(4, 1)\n",
    "ll.display()  # Output: [1, 4, 2, 3]\n",
    "ll.delete(2)\n",
    "ll.display()  # Output: [1, 4, 3]"
   ]
  },
  {
   "cell_type": "code",
   "execution_count": 2,
   "metadata": {},
   "outputs": [
    {
     "name": "stdout",
     "output_type": "stream",
     "text": [
      "[0, 1, 4, 3]\n",
      "[0, 1, 4, 3, 5]\n",
      "[1, 4, 3, 5]\n",
      "[1, 4, 3]\n"
     ]
    }
   ],
   "source": [
    "# Insert a new element at the beginning\n",
    "ll.insert(0, 0)\n",
    "ll.display()  # Output: [0, 1, 4, 3]\n",
    "\n",
    "# Insert a new element at the end\n",
    "ll.insert(5, 4)\n",
    "ll.display()  # Output: [0, 1, 4, 3, 5]\n",
    "\n",
    "# Delete the first element\n",
    "ll.delete(0)\n",
    "ll.display()  # Output: [1, 4, 3, 5]\n",
    "\n",
    "# Delete the last element\n",
    "ll.delete(5)\n",
    "ll.display()  # Output: [1, 4, 3]"
   ]
  },
  {
   "cell_type": "code",
   "execution_count": 3,
   "metadata": {},
   "outputs": [
    {
     "name": "stdout",
     "output_type": "stream",
     "text": [
      "True\n",
      "False\n",
      "3\n",
      "[3, 4, 1]\n"
     ]
    }
   ],
   "source": [
    "def search(self, key):\n",
    "    current = self.head\n",
    "    while current:\n",
    "        if current.data == key:\n",
    "            return True\n",
    "        current = current.next\n",
    "    return False\n",
    "\n",
    "def get_length(self):\n",
    "    count = 0\n",
    "    current = self.head\n",
    "    while current:\n",
    "        count += 1\n",
    "        current = current.next\n",
    "    return count\n",
    "\n",
    "def reverse(self):\n",
    "    prev = None\n",
    "    current = self.head\n",
    "    while current:\n",
    "        next_node = current.next\n",
    "        current.next = prev\n",
    "        prev = current\n",
    "        current = next_node\n",
    "    self.head = prev\n",
    "\n",
    "# Adding the new methods to the LinkedList class\n",
    "LinkedList.search = search\n",
    "LinkedList.get_length = get_length\n",
    "LinkedList.reverse = reverse\n",
    "\n",
    "# Example usage:\n",
    "print(ll.search(4))  # Output: True\n",
    "print(ll.search(10))  # Output: False\n",
    "print(ll.get_length())  # Output: 3\n",
    "ll.reverse()\n",
    "ll.display()  # Output: [3, 4, 1]"
   ]
  },
  {
   "cell_type": "code",
   "execution_count": 4,
   "metadata": {},
   "outputs": [
    {
     "name": "stdout",
     "output_type": "stream",
     "text": [
      "[1, 4, 3]\n"
     ]
    }
   ],
   "source": [
    "ll.reverse()\n",
    "ll.display()  # This will display the reversed linked list"
   ]
  },
  {
   "cell_type": "code",
   "execution_count": 5,
   "metadata": {},
   "outputs": [
    {
     "name": "stdout",
     "output_type": "stream",
     "text": [
      "[Task(Task 1, Description of Task 1), Task(Task 2, Description of Task 2), Task(Task 3, Description of Task 3)]\n",
      "[Task(Task 1, Description of Task 1), Task(Task 4, Description of Task 4), Task(Task 2, Description of Task 2), Task(Task 3, Description of Task 3)]\n",
      "[Task(Task 1, Description of Task 1), Task(Task 4, Description of Task 4), Task(Task 2, Description of Task 2), Task(Task 3, Description of Task 3)]\n",
      "False\n",
      "False\n",
      "4\n",
      "[Task(Task 3, Description of Task 3), Task(Task 2, Description of Task 2), Task(Task 4, Description of Task 4), Task(Task 1, Description of Task 1)]\n"
     ]
    }
   ],
   "source": [
    "# Task management system using LinkedList\n",
    "\n",
    "class Task:\n",
    "    def __init__(self, title, description):\n",
    "        self.title = title\n",
    "        self.description = description\n",
    "\n",
    "    def __repr__(self):\n",
    "        return f\"Task({self.title}, {self.description})\"\n",
    "\n",
    "# Create a new linked list for tasks\n",
    "tasks = LinkedList()\n",
    "\n",
    "# Add tasks\n",
    "tasks.append(Task(\"Task 1\", \"Description of Task 1\"))\n",
    "tasks.append(Task(\"Task 2\", \"Description of Task 2\"))\n",
    "tasks.append(Task(\"Task 3\", \"Description of Task 3\"))\n",
    "tasks.display()  # Display all tasks\n",
    "\n",
    "# Insert a task at a specific position\n",
    "tasks.insert(Task(\"Task 4\", \"Description of Task 4\"), 1)\n",
    "tasks.display()  # Display all tasks\n",
    "\n",
    "# Delete a task\n",
    "tasks.delete(Task(\"Task 2\", \"Description of Task 2\"))\n",
    "tasks.display()  # Display all tasks\n",
    "\n",
    "# Search for a task\n",
    "print(tasks.search(Task(\"Task 3\", \"Description of Task 3\")))  # Output: True\n",
    "print(tasks.search(Task(\"Task 5\", \"Description of Task 5\")))  # Output: False\n",
    "\n",
    "# Get the total number of tasks\n",
    "print(tasks.get_length())  # Output: 3\n",
    "\n",
    "# Reverse the order of tasks\n",
    "tasks.reverse()\n",
    "tasks.display()  # Display all tasks in reversed order"
   ]
  },
  {
   "cell_type": "code",
   "execution_count": 6,
   "metadata": {},
   "outputs": [
    {
     "name": "stdout",
     "output_type": "stream",
     "text": [
      "[Contact(Alice, 123-456-7890), Contact(Bob, 987-654-3210), Contact(Charlie, 555-555-5555)]\n",
      "[Contact(Alice, 123-456-7890), Contact(David, 111-222-3333), Contact(Bob, 987-654-3210), Contact(Charlie, 555-555-5555)]\n",
      "[Contact(Alice, 123-456-7890), Contact(David, 111-222-3333), Contact(Bob, 987-654-3210), Contact(Charlie, 555-555-5555)]\n",
      "False\n",
      "False\n",
      "4\n",
      "[Contact(Charlie, 555-555-5555), Contact(Bob, 987-654-3210), Contact(David, 111-222-3333), Contact(Alice, 123-456-7890)]\n"
     ]
    }
   ],
   "source": [
    "class Contact:\n",
    "    def __init__(self, name, phone):\n",
    "        self.name = name\n",
    "        self.phone = phone\n",
    "\n",
    "    def __repr__(self):\n",
    "        return f\"Contact({self.name}, {self.phone})\"\n",
    "\n",
    "# Create a new linked list for contacts\n",
    "contacts = LinkedList()\n",
    "\n",
    "# Add contacts\n",
    "contacts.append(Contact(\"Alice\", \"123-456-7890\"))\n",
    "contacts.append(Contact(\"Bob\", \"987-654-3210\"))\n",
    "contacts.append(Contact(\"Charlie\", \"555-555-5555\"))\n",
    "contacts.display()  # Display all contacts\n",
    "\n",
    "# Insert a contact at a specific position\n",
    "contacts.insert(Contact(\"David\", \"111-222-3333\"), 1)\n",
    "contacts.display()  # Display all contacts\n",
    "\n",
    "# Delete a contact\n",
    "contacts.delete(Contact(\"Bob\", \"987-654-3210\"))\n",
    "contacts.display()  # Display all contacts\n",
    "\n",
    "# Search for a contact\n",
    "print(contacts.search(Contact(\"Charlie\", \"555-555-5555\")))  # Output: True\n",
    "print(contacts.search(Contact(\"Eve\", \"444-444-4444\")))  # Output: False\n",
    "\n",
    "# Get the total number of contacts\n",
    "print(contacts.get_length())  # Output: 3\n",
    "\n",
    "# Reverse the order of contacts\n",
    "contacts.reverse()\n",
    "contacts.display()  # Display all contacts in reversed order"
   ]
  }
 ],
 "metadata": {
  "kernelspec": {
   "display_name": "Python 3",
   "language": "python",
   "name": "python3"
  },
  "language_info": {
   "codemirror_mode": {
    "name": "ipython",
    "version": 3
   },
   "file_extension": ".py",
   "mimetype": "text/x-python",
   "name": "python",
   "nbconvert_exporter": "python",
   "pygments_lexer": "ipython3",
   "version": "3.9.6"
  }
 },
 "nbformat": 4,
 "nbformat_minor": 2
}
