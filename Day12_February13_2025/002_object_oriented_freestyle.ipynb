{
 "cells": [
  {
   "cell_type": "code",
   "execution_count": 2,
   "metadata": {},
   "outputs": [
    {
     "name": "stdout",
     "output_type": "stream",
     "text": [
      "BMW is starting\n",
      "shifting to Automatic\n",
      "BMW is stopping\n"
     ]
    }
   ],
   "source": [
    "class Car:\n",
    "    def __init__(self, name=\"Generic car\"):\n",
    "        self.name = name\n",
    "        self.type = None\n",
    "    \n",
    "    def start_car(self):\n",
    "        print(self.name, \"is starting\")\n",
    "        if self.type:\n",
    "            print(\"shifting to\", self.type)\n",
    "    def stop_car(self):\n",
    "        print(self.name, \"is stopping\")\n",
    "\n",
    "test_car = Car(\"BMW\")\n",
    "test_car.type = \"Automatic\"\n",
    "test_car.start_car()\n",
    "test_car.stop_car()"
   ]
  }
 ],
 "metadata": {
  "kernelspec": {
   "display_name": "Python 3",
   "language": "python",
   "name": "python3"
  },
  "language_info": {
   "codemirror_mode": {
    "name": "ipython",
    "version": 3
   },
   "file_extension": ".py",
   "mimetype": "text/x-python",
   "name": "python",
   "nbconvert_exporter": "python",
   "pygments_lexer": "ipython3",
   "version": "3.9.6"
  }
 },
 "nbformat": 4,
 "nbformat_minor": 2
}
