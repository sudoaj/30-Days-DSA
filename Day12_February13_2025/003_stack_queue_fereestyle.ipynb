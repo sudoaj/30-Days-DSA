{
 "cells": [
  {
   "cell_type": "code",
   "execution_count": 3,
   "metadata": {},
   "outputs": [
    {
     "name": "stdout",
     "output_type": "stream",
     "text": [
      "[67, 688, 6123]\n"
     ]
    }
   ],
   "source": [
    "class Queue:\n",
    "    def __init__(self):\n",
    "        self.item = []\n",
    "    def is_empty(self):\n",
    "        return len(self.item) == 0\n",
    "    def en_queue(self, queue_item):\n",
    "        self.item.append(queue_item)\n",
    "    def de_queue(self):\n",
    "        if self.is_empty():\n",
    "            return IndexError(\"nothing to pop\")\n",
    "        return self.item.pop(0)\n",
    "\n",
    "qq = Queue()\n",
    "qq.en_queue(6)\n",
    "qq.en_queue(67)\n",
    "qq.en_queue(688)\n",
    "qq.en_queue(6123)\n",
    "qq.de_queue()\n",
    "print(qq.item)\n"
   ]
  }
 ],
 "metadata": {
  "kernelspec": {
   "display_name": "Python 3",
   "language": "python",
   "name": "python3"
  },
  "language_info": {
   "codemirror_mode": {
    "name": "ipython",
    "version": 3
   },
   "file_extension": ".py",
   "mimetype": "text/x-python",
   "name": "python",
   "nbconvert_exporter": "python",
   "pygments_lexer": "ipython3",
   "version": "3.9.6"
  }
 },
 "nbformat": 4,
 "nbformat_minor": 2
}
