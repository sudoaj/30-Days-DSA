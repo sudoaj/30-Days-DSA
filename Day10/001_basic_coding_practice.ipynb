{
 "cells": [
  {
   "cell_type": "code",
   "execution_count": 34,
   "metadata": {},
   "outputs": [
    {
     "name": "stdout",
     "output_type": "stream",
     "text": [
      "i'm the one now\n",
      "34 is prime\n",
      "12 is prime\n",
      "67  is not prime\n",
      "20 is prime\n",
      "6 is prime\n",
      "83  is not prime\n",
      "i'm the one now\n",
      "[1, 0, 34, 12, 67, 20, 6, 83, 1] 4\n"
     ]
    }
   ],
   "source": [
    "# gonna write shit code and feed to gpt to guide me on correcitng it\n",
    "# this is my version of code to multiply each item in an array list if it is prime and also divisble by the argument passed to the method\n",
    "def is_prime(num):\n",
    "    if num / num \n",
    "    flag = True if num % 2 == 0 else False \n",
    "    return flag\n",
    "def check_if_Prime_and_divisible_by_arg(arr, n):\n",
    "    for x in arr:\n",
    "        if x == 1:\n",
    "            print(\"i'm the one now\")\n",
    "            continue\n",
    "        if x > 0:\n",
    "            if is_prime(x):\n",
    "                print(x, \"is prime\")\n",
    "            else:\n",
    "                print(x, \" is not prime\")\n",
    "                if x%n == 0:\n",
    "                    print(x, \"is divisible by\", n)\n",
    "    \n",
    "    print(arr,n)\n",
    "\n",
    "arr = [1, 0,34,12,67,20,6,83, 1]\n",
    "n = 4\n",
    "\n",
    "check_if_Prime_and_divisible_by_arg(arr, n)"
   ]
  },
  {
   "cell_type": "code",
   "execution_count": 21,
   "metadata": {},
   "outputs": [
    {
     "name": "stdout",
     "output_type": "stream",
     "text": [
      "True\n",
      "False\n",
      "True\n",
      "True\n"
     ]
    }
   ],
   "source": [
    "def is_prime_efficient(num):\n",
    "    \"\"\"Most efficient primality test (checks up to square root).\"\"\"\n",
    "    if num <= 1:\n",
    "        return False\n",
    "    if num <= 3:  # Handle 2 and 3 specifically\n",
    "        return True\n",
    "    if num % 2 == 0 or num % 3 == 0:  # Check divisibility by 2 and 3\n",
    "        return False\n",
    "\n",
    "    i = 5\n",
    "    while i * i <= num:\n",
    "        if num % i == 0:  # Check divisibility by i\n",
    "            return False\n",
    "        i += 2  # Increment to the next potential prime (i + 2)\n",
    "        if i * i <= num: #Important to check if i*i <= num again because i has been incremented\n",
    "            if num % i == 0:  # Check divisibility by i (which was i+2 in the original)\n",
    "                return False\n",
    "        i += 4  # Increment to the next potential prime (i + 4, effectively i + 6 from original)\n",
    "\n",
    "    return True\n",
    "\n",
    "# Example usage:\n",
    "print(is_prime_efficient(2))   # Output: True\n",
    "print(is_prime_efficient(10))  # Output: False\n",
    "print(is_prime_efficient(17))  # Output: True\n",
    "print(is_prime_efficient(1000000007)) # Output: True (a large prime)"
   ]
  },
  {
   "cell_type": "code",
   "execution_count": null,
   "metadata": {},
   "outputs": [],
   "source": []
  }
 ],
 "metadata": {
  "kernelspec": {
   "display_name": "Python 3",
   "language": "python",
   "name": "python3"
  },
  "language_info": {
   "codemirror_mode": {
    "name": "ipython",
    "version": 3
   },
   "file_extension": ".py",
   "mimetype": "text/x-python",
   "name": "python",
   "nbconvert_exporter": "python",
   "pygments_lexer": "ipython3",
   "version": "3.9.6"
  }
 },
 "nbformat": 4,
 "nbformat_minor": 2
}
