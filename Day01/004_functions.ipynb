{
 "cells": [
  {
   "cell_type": "code",
   "execution_count": 1,
   "metadata": {},
   "outputs": [
    {
     "name": "stdout",
     "output_type": "stream",
     "text": [
      "Total cost: $19.90\n"
     ]
    }
   ],
   "source": [
    "# Function to calculate total cost\n",
    "def calculate_total_cost(items, tax_rate, discount=0):\n",
    "    \"\"\"\n",
    "    Calculate the total cost of items including tax and optional discount.\n",
    "\n",
    "    Parameters:\n",
    "    items (list of float): List of item prices.\n",
    "    tax_rate (float): Tax rate as a decimal (e.g., 0.07 for 7% tax).\n",
    "    discount (float, optional): Discount amount to be subtracted from the total. Default is 0.\n",
    "\n",
    "    Returns:\n",
    "    float: Total cost after tax and discount.\n",
    "    \"\"\"\n",
    "    # Calculate subtotal\n",
    "    subtotal = sum(items)\n",
    "    \n",
    "    # Calculate tax\n",
    "    tax = subtotal * tax_rate\n",
    "    \n",
    "    # Calculate total cost\n",
    "    total_cost = subtotal + tax - discount\n",
    "    \n",
    "    return total_cost\n",
    "\n",
    "# Example usage\n",
    "items = [10.99, 5.49, 3.99]  # Prices of items in the shopping cart\n",
    "tax_rate = 0.07  # 7% tax\n",
    "discount = 2.00  # $2 discount\n",
    "\n",
    "total_cost = calculate_total_cost(items, tax_rate, discount)\n",
    "print(f\"Total cost: ${total_cost:.2f}\")"
   ]
  },
  {
   "cell_type": "code",
   "execution_count": 2,
   "metadata": {},
   "outputs": [
    {
     "name": "stdout",
     "output_type": "stream",
     "text": [
      "{'categorized_items': {'cheap': [5.49, 3.99], 'expensive': [10.99]}, 'subtotal': 20.47, 'tax': 1.4329, 'discount': 2.047, 'total_cost': 19.8559}\n"
     ]
    }
   ],
   "source": [
    "# Function to categorize items based on price and apply discount if applicable\n",
    "def categorize_and_discount_items(items, tax_rate, discount_threshold, discount_rate):\n",
    "    \"\"\"\n",
    "    Categorize items based on price and apply discount if the total exceeds the discount threshold.\n",
    "\n",
    "    Parameters:\n",
    "    items (list of float): List of item prices.\n",
    "    tax_rate (float): Tax rate as a decimal (e.g., 0.07 for 7% tax).\n",
    "    discount_threshold (float): Threshold above which discount is applied.\n",
    "    discount_rate (float): Discount rate as a decimal (e.g., 0.10 for 10% discount).\n",
    "\n",
    "    Returns:\n",
    "    dict: Dictionary with categorized items and total cost after tax and discount.\n",
    "    \"\"\"\n",
    "    categorized_items = {'cheap': [], 'expensive': []}\n",
    "    subtotal = 0\n",
    "\n",
    "    # Categorize items and calculate subtotal\n",
    "    for item in items:\n",
    "        if item < 10:\n",
    "            categorized_items['cheap'].append(item)\n",
    "        else:\n",
    "            categorized_items['expensive'].append(item)\n",
    "        subtotal += item\n",
    "\n",
    "    # Apply discount if subtotal exceeds discount threshold\n",
    "    if subtotal > discount_threshold:\n",
    "        discount = subtotal * discount_rate\n",
    "    else:\n",
    "        discount = 0\n",
    "\n",
    "    # Calculate tax\n",
    "    tax = subtotal * tax_rate\n",
    "\n",
    "    # Calculate total cost\n",
    "    total_cost = subtotal + tax - discount\n",
    "\n",
    "    return {\n",
    "        'categorized_items': categorized_items,\n",
    "        'subtotal': subtotal,\n",
    "        'tax': tax,\n",
    "        'discount': discount,\n",
    "        'total_cost': total_cost\n",
    "    }\n",
    "\n",
    "# Example usage\n",
    "discount_threshold = 20.00  # $20 threshold for discount\n",
    "discount_rate = 0.10  # 10% discount\n",
    "\n",
    "result = categorize_and_discount_items(items, tax_rate, discount_threshold, discount_rate)\n",
    "print(result)"
   ]
  }
 ],
 "metadata": {
  "kernelspec": {
   "display_name": "Python 3",
   "language": "python",
   "name": "python3"
  },
  "language_info": {
   "codemirror_mode": {
    "name": "ipython",
    "version": 3
   },
   "file_extension": ".py",
   "mimetype": "text/x-python",
   "name": "python",
   "nbconvert_exporter": "python",
   "pygments_lexer": "ipython3",
   "version": "3.9.6"
  }
 },
 "nbformat": 4,
 "nbformat_minor": 2
}
