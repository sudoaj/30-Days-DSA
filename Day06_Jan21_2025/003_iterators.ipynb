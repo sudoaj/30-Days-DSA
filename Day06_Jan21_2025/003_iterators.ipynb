{
 "cells": [
  {
   "cell_type": "code",
   "execution_count": 1,
   "metadata": {},
   "outputs": [
    {
     "name": "stdout",
     "output_type": "stream",
     "text": [
      "{'name': 'Alice', 'age': 30}\n",
      "{'name': 'Bob', 'age': 25}\n",
      "{'name': 'Charlie', 'age': 35}\n"
     ]
    }
   ],
   "source": [
    "class UserIterator:\n",
    "    def __init__(self, users):\n",
    "        self._users = users\n",
    "        self._index = 0\n",
    "\n",
    "    def __iter__(self):\n",
    "        return self\n",
    "\n",
    "    def __next__(self):\n",
    "        if self._index < len(self._users):\n",
    "            user = self._users[self._index]\n",
    "            self._index += 1\n",
    "            return user\n",
    "        else:\n",
    "            raise StopIteration\n",
    "\n",
    "# Example usage\n",
    "users = [\n",
    "    {\"name\": \"Alice\", \"age\": 30},\n",
    "    {\"name\": \"Bob\", \"age\": 25},\n",
    "    {\"name\": \"Charlie\", \"age\": 35},\n",
    "]\n",
    "\n",
    "user_iterator = UserIterator(users)\n",
    "\n",
    "for user in user_iterator:\n",
    "    print(user)"
   ]
  },
  {
   "cell_type": "code",
   "execution_count": null,
   "metadata": {},
   "outputs": [],
   "source": []
  },
  {
   "cell_type": "code",
   "execution_count": 6,
   "metadata": {},
   "outputs": [
    {
     "name": "stdout",
     "output_type": "stream",
     "text": [
      "[4, 256]\n"
     ]
    }
   ],
   "source": [
    "class NumberIterator:\n",
    "    def __init__(self, numbers):\n",
    "        self._numbers = numbers\n",
    "        self._index = 0\n",
    "\n",
    "    def __iter__(self):\n",
    "        return self\n",
    "\n",
    "    def __next__(self):\n",
    "        if self._index < len(self._numbers):\n",
    "            number = self._numbers[self._index]\n",
    "            self._index += 1\n",
    "            return number\n",
    "        else:\n",
    "            raise StopIteration\n",
    "\n",
    "# Example usage\n",
    "numbers = [1, 2, 3, 4, 5]\n",
    "\n",
    "number_iterator = NumberIterator(numbers)\n",
    "\n",
    "for number in number_iterator:\n",
    "    numb_calc = [num**num for num in number_iterator if num % 2 == 0]\n",
    "    print(numb_calc)"
   ]
  }
 ],
 "metadata": {
  "kernelspec": {
   "display_name": "Python 3",
   "language": "python",
   "name": "python3"
  },
  "language_info": {
   "codemirror_mode": {
    "name": "ipython",
    "version": 3
   },
   "file_extension": ".py",
   "mimetype": "text/x-python",
   "name": "python",
   "nbconvert_exporter": "python",
   "pygments_lexer": "ipython3",
   "version": "3.9.6"
  }
 },
 "nbformat": 4,
 "nbformat_minor": 2
}
