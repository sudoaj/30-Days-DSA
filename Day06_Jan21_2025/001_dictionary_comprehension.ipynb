{
 "cells": [
  {
   "cell_type": "code",
   "execution_count": 1,
   "metadata": {},
   "outputs": [
    {
     "name": "stdout",
     "output_type": "stream",
     "text": [
      "{0: 0, 1: 1, 2: 4, 3: 9, 4: 16, 5: 25, 6: 36, 7: 49, 8: 64, 9: 81}\n"
     ]
    }
   ],
   "source": [
    "# Dictionary comprehension example\n",
    "squares = {x: x*x for x in range(10)}\n",
    "print(squares)"
   ]
  },
  {
   "cell_type": "code",
   "execution_count": 2,
   "metadata": {},
   "outputs": [
    {
     "name": "stdout",
     "output_type": "stream",
     "text": [
      "{'Alice': 85, 'Charlie': 90, 'Eve': 95}\n"
     ]
    }
   ],
   "source": [
    "students_scores = {'Alice': 85, 'Bob': 65, 'Charlie': 90, 'David': 70, 'Eve': 95}\n",
    "high_scorers = {name: score for name, score in students_scores.items() if score > 70}\n",
    "print(high_scorers)"
   ]
  },
  {
   "cell_type": "code",
   "execution_count": 3,
   "metadata": {},
   "outputs": [
    {
     "name": "stdout",
     "output_type": "stream",
     "text": [
      "{'Alice': {'score': 85, 'category': 'B'}, 'Bob': {'score': 65, 'category': 'D'}, 'Charlie': {'score': 90, 'category': 'A'}, 'David': {'score': 70, 'category': 'C'}, 'Eve': {'score': 95, 'category': 'A'}}\n"
     ]
    }
   ],
   "source": [
    "# Detailed dictionary comprehension example\n",
    "grade_categories = {name: {'score': score, 'category': 'A' if score >= 90 else 'B' if score >= 80 else 'C' if score >= 70 else 'D'} for name, score in students_scores.items()}\n",
    "print(grade_categories)"
   ]
  },
  {
   "cell_type": "code",
   "execution_count": 6,
   "metadata": {},
   "outputs": [
    {
     "name": "stdout",
     "output_type": "stream",
     "text": [
      "{'Alice': {'score': 85, 'category': 'B'}, 'Bob': {'score': 65, 'category': 'D'}, 'Charlie': {'score': 90, 'category': 'A'}, 'David': {'score': 70, 'category': 'C'}, 'Eve': {'score': 95, 'category': 'A'}}\n"
     ]
    }
   ],
   "source": [
    "grade_categories = {}\n",
    "for name, score in students_scores.items():\n",
    "    if score >= 90:\n",
    "        category = 'A'\n",
    "    elif score >= 80:\n",
    "        category = 'B'\n",
    "    elif score >= 70:\n",
    "        category = 'C'\n",
    "    else:\n",
    "        category = 'D'\n",
    "    grade_categories[name] = {'score': score, 'category': category}\n",
    "\n",
    "print(grade_categories)"
   ]
  },
  {
   "cell_type": "code",
   "execution_count": null,
   "metadata": {},
   "outputs": [
    {
     "name": "stdout",
     "output_type": "stream",
     "text": [
      "1. Add Student\n",
      "2. Display Students\n",
      "3. Exit\n"
     ]
    }
   ],
   "source": [
    "class Student:\n",
    "    def __init__(self, name, score):\n",
    "        self.name = name\n",
    "        self.score = score\n",
    "        self.category = self.categorize_score()\n",
    "\n",
    "    def categorize_score(self):\n",
    "        if self.score >= 90:\n",
    "            return 'A'\n",
    "        elif self.score >= 80:\n",
    "            return 'B'\n",
    "        elif self.score >= 70:\n",
    "            return 'C'\n",
    "        else:\n",
    "            return 'D'\n",
    "\n",
    "def add_student(students_dict, name, score):\n",
    "    student = Student(name, score)\n",
    "    students_dict[name] = {'score': score, 'category': student.category}\n",
    "\n",
    "def display_students(students_dict):\n",
    "    for name, details in students_dict.items():\n",
    "        print(f\"Name: {name}, Score: {details['score']}, Category: {details['category']}\")\n",
    "\n",
    "students_dict = {}\n",
    "\n",
    "while True:\n",
    "    print(\"1. Add Student\")\n",
    "    print(\"2. Display Students\")\n",
    "    print(\"3. Exit\")\n",
    "    choice = input(\"Enter your choice: \")\n",
    "\n",
    "    if choice == '1':\n",
    "        name = input(\"Enter student name: \")\n",
    "        score = int(input(\"Enter student score: \"))\n",
    "        add_student(students_dict, name, score)\n",
    "    elif choice == '2':\n",
    "        display_students(students_dict)\n",
    "    elif choice == '3':\n",
    "        break\n",
    "    else:\n",
    "        print(\"Invalid choice. Please try again.\")"
   ]
  }
 ],
 "metadata": {
  "kernelspec": {
   "display_name": "Python 3",
   "language": "python",
   "name": "python3"
  },
  "language_info": {
   "codemirror_mode": {
    "name": "ipython",
    "version": 3
   },
   "file_extension": ".py",
   "mimetype": "text/x-python",
   "name": "python",
   "nbconvert_exporter": "python",
   "pygments_lexer": "ipython3",
   "version": "3.9.6"
  }
 },
 "nbformat": 4,
 "nbformat_minor": 2
}
