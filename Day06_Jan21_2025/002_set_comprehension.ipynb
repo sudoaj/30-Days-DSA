{
 "cells": [
  {
   "cell_type": "code",
   "execution_count": 1,
   "metadata": {},
   "outputs": [
    {
     "name": "stdout",
     "output_type": "stream",
     "text": [
      "{64, 100, 4, 36, 16}\n"
     ]
    }
   ],
   "source": [
    "# Set comprehension example\n",
    "numbers = [1, 2, 3, 4, 5, 6, 7, 8, 9, 10]\n",
    "squared_even_numbers = {x**2 for x in numbers if x % 2 == 0}\n",
    "print(squared_even_numbers)"
   ]
  },
  {
   "cell_type": "code",
   "execution_count": 2,
   "metadata": {},
   "outputs": [
    {
     "name": "stdout",
     "output_type": "stream",
     "text": [
      "Unique words: {'can', 'perform', 'to', 'and', 'with', 'create', 'but', 'be', 'in', 'eliminate', 'python', 'used', 'similar', 'it', 'efficiently', 'sets', 'way', 'concise', 'set', 'a', 'list', 'is', 'curly', 'operations', 'comprehension', 'braces', 'duplicates'}\n",
      "Word count: {'can': 1, 'perform': 1, 'to': 3, 'and': 1, 'with': 1, 'create': 1, 'but': 1, 'be': 1, 'in': 1, 'eliminate': 1, 'python': 0, 'used': 1, 'similar': 1, 'it': 1, 'efficiently': 0, 'sets': 1, 'way': 1, 'concise': 1, 'set': 3, 'a': 1, 'list': 1, 'is': 2, 'curly': 1, 'operations': 1, 'comprehension': 3, 'braces': 0, 'duplicates': 1}\n"
     ]
    }
   ],
   "source": [
    "# Sample text\n",
    "text = \"\"\"\n",
    "Set comprehension is a concise way to create sets in Python. \n",
    "It is similar to list comprehension but with curly braces. \n",
    "Set comprehension can be used to eliminate duplicates and perform set operations efficiently.\n",
    "\"\"\"\n",
    "\n",
    "# Split the text into words and convert to lowercase\n",
    "words = text.lower().split()\n",
    "\n",
    "# Use set comprehension to find unique words\n",
    "unique_words = {word.strip('.,') for word in words}\n",
    "\n",
    "# Count the occurrences of each unique word\n",
    "word_count = {word: words.count(word) for word in unique_words}\n",
    "\n",
    "print(\"Unique words:\", unique_words)\n",
    "print(\"Word count:\", word_count)"
   ]
  },
  {
   "cell_type": "code",
   "execution_count": 9,
   "metadata": {},
   "outputs": [
    {
     "name": "stdout",
     "output_type": "stream",
     "text": [
      "The word 'compensation' is partially correct.\n"
     ]
    }
   ],
   "source": [
    "chosen_word = \"comprehension\"\n",
    "\n",
    "def check_word(word, chosen_word, word_count):\n",
    "    if word == chosen_word:\n",
    "        return \"correct\"\n",
    "    elif word in word_count:\n",
    "        return \"present but not correct\"\n",
    "    elif any(letter in chosen_word for letter in word):\n",
    "        for i, letter in enumerate(word):\n",
    "            if i < len(chosen_word) and letter == chosen_word[i]:\n",
    "                return \"partially correct\"\n",
    "        return \"not present\"\n",
    "    else:\n",
    "        return \"not present\"\n",
    "\n",
    "# Example usage\n",
    "word_to_check = \"compensation\"\n",
    "result = check_word(word_to_check, chosen_word, word_count)\n",
    "print(f\"The word '{word_to_check}' is {result}.\")"
   ]
  },
  {
   "cell_type": "code",
   "execution_count": 10,
   "metadata": {},
   "outputs": [
    {
     "name": "stdout",
     "output_type": "stream",
     "text": [
      "{'set': (3, True), 'comprehension': (13, True), 'is': (2, True), 'a': (1, True), 'concise': (7, True), 'way': (3, True), 'to': (2, True), 'create': (6, True), 'sets': (4, True), 'in': (2, True), 'python': (6, True), 'it': (2, True), 'similar': (7, True), 'list': (4, True), 'but': (3, True), 'with': (4, True), 'curly': (5, True), 'braces': (6, True), 'can': (3, True), 'be': (2, True), 'used': (4, True), 'eliminate': (9, True), 'duplicates': (10, True), 'and': (3, True), 'perform': (7, True), 'operations': (10, True), 'efficiently': (11, True)}\n"
     ]
    }
   ],
   "source": [
    "def analyze_words(word_list, unique_words):\n",
    "    analysis = {}\n",
    "    for word in word_list:\n",
    "        word_cleaned = word.strip('.,').lower()\n",
    "        analysis[word_cleaned] = (len(word_cleaned), word_cleaned in unique_words)\n",
    "    return analysis\n",
    "\n",
    "# Example usage\n",
    "word_analysis = analyze_words(words, unique_words)\n",
    "print(word_analysis)"
   ]
  }
 ],
 "metadata": {
  "kernelspec": {
   "display_name": "Python 3",
   "language": "python",
   "name": "python3"
  },
  "language_info": {
   "codemirror_mode": {
    "name": "ipython",
    "version": 3
   },
   "file_extension": ".py",
   "mimetype": "text/x-python",
   "name": "python",
   "nbconvert_exporter": "python",
   "pygments_lexer": "ipython3",
   "version": "3.9.6"
  }
 },
 "nbformat": 4,
 "nbformat_minor": 2
}
