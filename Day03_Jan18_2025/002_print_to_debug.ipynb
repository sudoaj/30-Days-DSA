{
 "cells": [
  {
   "cell_type": "code",
   "execution_count": 2,
   "metadata": {},
   "outputs": [
    {
     "name": "stdout",
     "output_type": "stream",
     "text": [
      "Hello, World!\n",
      "Name Error: name 'variable_that_does_not_exist' is not defined\n",
      "Type Error: can only concatenate str (not \"int\") to str\n",
      "Index Error: list index out of range\n",
      "Key Error: 'c'\n",
      "Attribute Error: 'str' object has no attribute 'append'\n",
      "Value Error: invalid literal for int() with base 10: 'abc'\n",
      "ZeroDivision Error: division by zero\n",
      "File Not Found Error: [Errno 2] No such file or directory: 'non_existent_file.txt'\n",
      "Import Error: No module named 'non_existent_module'\n"
     ]
    }
   ],
   "source": [
    "# Scenario 1: Syntax Error\n",
    "try:\n",
    "    print(\"Hello, World!\")\n",
    "except SyntaxError as e:\n",
    "    print(f\"Syntax Error: {e}\")\n",
    "\n",
    "# Scenario 2: Name Error\n",
    "try:\n",
    "    print(variable_that_does_not_exist)\n",
    "except NameError as e:\n",
    "    print(f\"Name Error: {e}\")\n",
    "\n",
    "# Scenario 3: Type Error\n",
    "try:\n",
    "    print(\"The number is: \" + 5)\n",
    "except TypeError as e:\n",
    "    print(f\"Type Error: {e}\")\n",
    "\n",
    "# Scenario 4: Index Error\n",
    "my_list = [1, 2, 3]\n",
    "try:\n",
    "    print(my_list[5])\n",
    "except IndexError as e:\n",
    "    print(f\"Index Error: {e}\")\n",
    "\n",
    "# Scenario 5: Key Error\n",
    "my_dict = {\"a\": 1, \"b\": 2}\n",
    "try:\n",
    "    print(my_dict[\"c\"])\n",
    "except KeyError as e:\n",
    "    print(f\"Key Error: {e}\")\n",
    "\n",
    "# Scenario 6: Attribute Error\n",
    "my_string = \"hello\"\n",
    "try:\n",
    "    my_string.append(\" world\")\n",
    "except AttributeError as e:\n",
    "    print(f\"Attribute Error: {e}\")\n",
    "\n",
    "# Scenario 7: Value Error\n",
    "try:\n",
    "    int(\"abc\")\n",
    "except ValueError as e:\n",
    "    print(f\"Value Error: {e}\")\n",
    "\n",
    "# Scenario 8: ZeroDivision Error\n",
    "try:\n",
    "    print(10 / 0)\n",
    "except ZeroDivisionError as e:\n",
    "    print(f\"ZeroDivision Error: {e}\")\n",
    "\n",
    "# Scenario 9: File Not Found Error\n",
    "try:\n",
    "    with open(\"non_existent_file.txt\", \"r\") as file:\n",
    "        content = file.read()\n",
    "except FileNotFoundError as e:\n",
    "    print(f\"File Not Found Error: {e}\")\n",
    "\n",
    "# Scenario 10: Import Error\n",
    "try:\n",
    "    import non_existent_module\n",
    "except ImportError as e:\n",
    "    print(f\"Import Error: {e}\")"
   ]
  }
 ],
 "metadata": {
  "kernelspec": {
   "display_name": "Python 3",
   "language": "python",
   "name": "python3"
  },
  "language_info": {
   "codemirror_mode": {
    "name": "ipython",
    "version": 3
   },
   "file_extension": ".py",
   "mimetype": "text/x-python",
   "name": "python",
   "nbconvert_exporter": "python",
   "pygments_lexer": "ipython3",
   "version": "3.9.6"
  }
 },
 "nbformat": 4,
 "nbformat_minor": 2
}
