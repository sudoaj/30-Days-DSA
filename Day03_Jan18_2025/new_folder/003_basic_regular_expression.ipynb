{
 "cells": [
  {
   "cell_type": "code",
   "execution_count": 5,
   "metadata": {},
   "outputs": [
    {
     "name": "stdout",
     "output_type": "stream",
     "text": [
      "Valid email address\n",
      "Phone numbers found: ['123-456-7890', '987-654-3210']\n",
      "Updated text: Today's date is YYYY-MM-DD. Tomorrow's date will be YYYY-MM-DD.\n",
      "Fruits list: ['apple', 'orange', 'banana', 'grape']\n",
      "Words found: ['Hello', 'world', 'Welcome', 'to', 'the', 'world', 'of', 'regular', 'expressions']\n",
      "Valid URL\n",
      "HTML tags found: ['<html>', '<head>', '<title>', '</title>', '</head>', '<body>', '<h1>', '</h1>', '</body>', '</html>']\n"
     ]
    }
   ],
   "source": [
    "import re\n",
    "\n",
    "# Example 1: Validating an Email Address\n",
    "email = \"example@example.com\"\n",
    "pattern = r'^[a-zA-Z0-9_.+-]+@[a-zA-Z0-9-]+\\.[a-zA-Z0-9-.]+$'\n",
    "if re.match(pattern, email):\n",
    "    print(\"Valid email address\")\n",
    "else:\n",
    "    print(\"Invalid email address\")\n",
    "\n",
    "# Example 2: Extracting Phone Numbers from a Text\n",
    "text = \"Contact us at 123-456-7890 or 987-654-3210\"\n",
    "pattern = r'\\d{3}-\\d{3}-\\d{4}'\n",
    "phone_numbers = re.findall(pattern, text)\n",
    "print(\"Phone numbers found:\", phone_numbers)\n",
    "\n",
    "# Example 3: Replacing Dates in a Text\n",
    "text = \"Today's date is 2023-10-05. Tomorrow's date will be 2023-10-06.\"\n",
    "pattern = r'\\d{4}-\\d{2}-\\d{2}'\n",
    "new_text = re.sub(pattern, 'YYYY-MM-DD', text)\n",
    "print(\"Updated text:\", new_text)\n",
    "\n",
    "# Example 4: Splitting a String by Multiple Delimiters\n",
    "text = \"apple,orange;banana|grape\"\n",
    "pattern = r'[;,|]'\n",
    "fruits = re.split(pattern, text)\n",
    "print(\"Fruits list:\", fruits)\n",
    "\n",
    "# Example 5: Finding All Words in a Text\n",
    "text = \"Hello, world! Welcome to the world of regular expressions.\"\n",
    "pattern = r'\\b\\w+\\b'\n",
    "words = re.findall(pattern, text)\n",
    "print(\"Words found:\", words)\n",
    "\n",
    "# Example 6: Validating a URL\n",
    "url = \"https://www.example.com\"\n",
    "pattern = r'^(https?|ftp)://[^\\s/$.?#].[^\\s]*$'\n",
    "if re.match(pattern, url):\n",
    "    print(\"Valid URL\")\n",
    "else:\n",
    "    print(\"Invalid URL\")\n",
    "\n",
    "# Example 7: Extracting HTML Tags\n",
    "html = \"<html><head><title>Title</title></head><body><h1>Header</h1></body></html>\"\n",
    "pattern = r'<.*?>'\n",
    "tags = re.findall(pattern, html)\n",
    "print(\"HTML tags found:\", tags)"
   ]
  }
 ],
 "metadata": {
  "kernelspec": {
   "display_name": "Python 3",
   "language": "python",
   "name": "python3"
  },
  "language_info": {
   "codemirror_mode": {
    "name": "ipython",
    "version": 3
   },
   "file_extension": ".py",
   "mimetype": "text/x-python",
   "name": "python",
   "nbconvert_exporter": "python",
   "pygments_lexer": "ipython3",
   "version": "3.9.6"
  }
 },
 "nbformat": 4,
 "nbformat_minor": 2
}
