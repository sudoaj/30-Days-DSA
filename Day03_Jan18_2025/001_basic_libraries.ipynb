{
 "cells": [
  {
   "cell_type": "code",
   "execution_count": 1,
   "metadata": {},
   "outputs": [
    {
     "name": "stdout",
     "output_type": "stream",
     "text": [
      "Area of the circle with radius 5 is 78.53981633974483\n",
      "Generated random password: R*JkO(v(7Wcq\n",
      "Current date and time: 2025-01-18 20:22:55.066563\n",
      "Files in the current directory (/Users/aj/Projects/30-Days-DSA/Day03): ['day03_topic_practice.py', 'todo.md', 'notes.md', '001_basic_libraries.ipynb']\n"
     ]
    }
   ],
   "source": [
    "import math\n",
    "import random\n",
    "from datetime import datetime\n",
    "import os\n",
    "\n",
    "# Using math to calculate the area of a circle\n",
    "radius = 5\n",
    "area_of_circle = math.pi * (radius ** 2)\n",
    "print(f\"Area of the circle with radius {radius} is {area_of_circle}\")\n",
    "\n",
    "# Using random to generate a random password\n",
    "characters = \"abcdefghijklmnopqrstuvwxyzABCDEFGHIJKLMNOPQRSTUVWXYZ1234567890!@#$%^&*()\"\n",
    "password_length = 12\n",
    "random_password = ''.join(random.choice(characters) for i in range(password_length))\n",
    "print(f\"Generated random password: {random_password}\")\n",
    "\n",
    "# Using datetime to get the current date and time\n",
    "current_datetime = datetime.now()\n",
    "print(f\"Current date and time: {current_datetime}\")\n",
    "\n",
    "# Using os to list files in the current directory\n",
    "current_directory = os.getcwd()\n",
    "files_in_directory = os.listdir(current_directory)\n",
    "print(f\"Files in the current directory ({current_directory}): {files_in_directory}\")"
   ]
  },
  {
   "cell_type": "code",
   "execution_count": 2,
   "metadata": {},
   "outputs": [
    {
     "name": "stdout",
     "output_type": "stream",
     "text": [
      "Does the file 'todo.md' exist? True\n",
      "Created new directory: /Users/aj/Projects/30-Days-DSA/Day03/new_folder\n",
      "Renamed file 'notes.md' to 'notes_renamed.md'\n",
      "Removed file: notes_renamed.md\n",
      "Directories in the current directory (/Users/aj/Projects/30-Days-DSA/Day03): ['new_folder']\n"
     ]
    }
   ],
   "source": [
    "# Check if a specific file exists in the current directory\n",
    "file_to_check = 'todo.md'\n",
    "file_exists = os.path.isfile(os.path.join(current_directory, file_to_check))\n",
    "print(f\"Does the file '{file_to_check}' exist? {file_exists}\")\n",
    "\n",
    "# Create a new directory\n",
    "new_directory = os.path.join(current_directory, 'new_folder')\n",
    "os.makedirs(new_directory, exist_ok=True)\n",
    "print(f\"Created new directory: {new_directory}\")\n",
    "\n",
    "# Rename a file\n",
    "old_file_name = 'notes.md'\n",
    "new_file_name = 'notes_renamed.md'\n",
    "os.rename(os.path.join(current_directory, old_file_name), os.path.join(current_directory, new_file_name))\n",
    "print(f\"Renamed file '{old_file_name}' to '{new_file_name}'\")\n",
    "\n",
    "# Remove a file\n",
    "file_to_remove = 'notes_renamed.md'\n",
    "os.remove(os.path.join(current_directory, file_to_remove))\n",
    "print(f\"Removed file: {file_to_remove}\")\n",
    "\n",
    "# List all directories in the current directory\n",
    "directories_in_directory = [d for d in os.listdir(current_directory) if os.path.isdir(os.path.join(current_directory, d))]\n",
    "print(f\"Directories in the current directory ({current_directory}): {directories_in_directory}\")"
   ]
  }
 ],
 "metadata": {
  "kernelspec": {
   "display_name": "Python 3",
   "language": "python",
   "name": "python3"
  },
  "language_info": {
   "codemirror_mode": {
    "name": "ipython",
    "version": 3
   },
   "file_extension": ".py",
   "mimetype": "text/x-python",
   "name": "python",
   "nbconvert_exporter": "python",
   "pygments_lexer": "ipython3",
   "version": "3.9.6"
  }
 },
 "nbformat": 4,
 "nbformat_minor": 2
}
