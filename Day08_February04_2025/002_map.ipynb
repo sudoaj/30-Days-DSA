{
 "cells": [
  {
   "cell_type": "code",
   "execution_count": 1,
   "metadata": {},
   "outputs": [
    {
     "name": "stdout",
     "output_type": "stream",
     "text": [
      "[1, 4, 9, 16, 25]\n",
      "[6, 7, 8, 9, 10]\n",
      "[5, 7, 9]\n",
      "['APPLE', 'BANANA', 'CHERRY']\n",
      "['John', 'Jane']\n"
     ]
    }
   ],
   "source": [
    "# Example 1: Using map with a built-in function\n",
    "numbers = [1, 2, 3, 4, 5]\n",
    "squared_numbers = list(map(lambda x: x ** 2, numbers))\n",
    "print(squared_numbers)  # Output: [1, 4, 9, 16, 25]\n",
    "\n",
    "# Example 2: Using map with a user-defined function\n",
    "def add_five(x):\n",
    "    return x + 5\n",
    "\n",
    "numbers = [1, 2, 3, 4, 5]\n",
    "numbers_plus_five = list(map(add_five, numbers))\n",
    "print(numbers_plus_five)  # Output: [6, 7, 8, 9, 10]\n",
    "\n",
    "# Example 3: Using map with multiple iterables\n",
    "numbers1 = [1, 2, 3]\n",
    "numbers2 = [4, 5, 6]\n",
    "sum_numbers = list(map(lambda x, y: x + y, numbers1, numbers2))\n",
    "print(sum_numbers)  # Output: [5, 7, 9]\n",
    "\n",
    "# Example 4: Using map with a string\n",
    "strings = [\"apple\", \"banana\", \"cherry\"]\n",
    "upper_strings = list(map(str.upper, strings))\n",
    "print(upper_strings)  # Output: ['APPLE', 'BANANA', 'CHERRY']\n",
    "\n",
    "# Example 5: Using map with a dictionary\n",
    "dicts = [{'name': 'John', 'age': 25}, {'name': 'Jane', 'age': 30}]\n",
    "names = list(map(lambda d: d['name'], dicts))\n",
    "print(names)  # Output: ['John', 'Jane']"
   ]
  },
  {
   "cell_type": "code",
   "execution_count": 2,
   "metadata": {},
   "outputs": [
    {
     "name": "stdout",
     "output_type": "stream",
     "text": [
      "Updated Employees: [{'name': 'John', 'age': 25, 'salary': 55000.00000000001}, {'name': 'Jane', 'age': 30, 'salary': 66000.0}, {'name': 'Doe', 'age': 22, 'salary': 49500.00000000001}]\n",
      "Employee Names: ['John', 'Jane', 'Doe']\n",
      "Uppercase Employee Names: ['JOHN', 'JANE', 'DOE']\n"
     ]
    }
   ],
   "source": [
    "# List of dictionaries representing employees\n",
    "employees = [\n",
    "    {'name': 'John', 'age': 25, 'salary': 50000},\n",
    "    {'name': 'Jane', 'age': 30, 'salary': 60000},\n",
    "    {'name': 'Doe', 'age': 22, 'salary': 45000}\n",
    "]\n",
    "\n",
    "# 1. Increase the salary of each employee by 10%\n",
    "def increase_salary(employee):\n",
    "    employee['salary'] = employee['salary'] * 1.10\n",
    "    return employee\n",
    "\n",
    "updated_employees = list(map(increase_salary, employees))\n",
    "print(\"Updated Employees:\", updated_employees)\n",
    "\n",
    "# 2. Extract the names of all employees\n",
    "employee_names = list(map(lambda e: e['name'], employees))\n",
    "print(\"Employee Names:\", employee_names)\n",
    "\n",
    "# 3. Convert all employee names to uppercase\n",
    "upper_employee_names = list(map(str.upper, employee_names))\n",
    "print(\"Uppercase Employee Names:\", upper_employee_names)"
   ]
  },
  {
   "cell_type": "code",
   "execution_count": 3,
   "metadata": {},
   "outputs": [
    {
     "name": "stdout",
     "output_type": "stream",
     "text": [
      "High Salary Employees: [{'name': 'John', 'age': 25, 'salary': 55000.00000000001}, {'name': 'Jane', 'age': 30, 'salary': 66000.0}]\n"
     ]
    }
   ],
   "source": [
    "high_salary_employees = list(filter(lambda e: e['salary'] > 50000, employees))\n",
    "print(\"High Salary Employees:\", high_salary_employees)"
   ]
  }
 ],
 "metadata": {
  "kernelspec": {
   "display_name": "Python 3",
   "language": "python",
   "name": "python3"
  },
  "language_info": {
   "codemirror_mode": {
    "name": "ipython",
    "version": 3
   },
   "file_extension": ".py",
   "mimetype": "text/x-python",
   "name": "python",
   "nbconvert_exporter": "python",
   "pygments_lexer": "ipython3",
   "version": "3.9.6"
  }
 },
 "nbformat": 4,
 "nbformat_minor": 2
}
