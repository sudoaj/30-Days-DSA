{
 "cells": [
  {
   "cell_type": "code",
   "execution_count": 1,
   "metadata": {},
   "outputs": [
    {
     "name": "stdout",
     "output_type": "stream",
     "text": [
      "Original list: [1, 2, 3, 4, 5, 6, 7, 8, 9, 10]\n",
      "Even numbers: [2, 4, 6, 8, 10]\n",
      "Original list of words: ['apple', 'banana', 'cherry', 'date', 'elderberry', 'fig', 'grape']\n",
      "Words longer than 5 characters: ['banana', 'cherry', 'elderberry']\n"
     ]
    }
   ],
   "source": [
    "# Define a list of numbers\n",
    "numbers = [1, 2, 3, 4, 5, 6, 7, 8, 9, 10]\n",
    "\n",
    "# Define a function that returns True for even numbers\n",
    "def is_even(n):\n",
    "    return n % 2 == 0\n",
    "\n",
    "# Use filter to get only even numbers from the list\n",
    "even_numbers = list(filter(is_even, numbers))\n",
    "\n",
    "print(\"Original list:\", numbers)\n",
    "print(\"Even numbers:\", even_numbers)\n",
    "\n",
    "# Define a list of strings\n",
    "words = [\"apple\", \"banana\", \"cherry\", \"date\", \"elderberry\", \"fig\", \"grape\"]\n",
    "\n",
    "# Define a function that returns True for words longer than 5 characters\n",
    "def longer_than_five(word):\n",
    "    return len(word) > 5\n",
    "\n",
    "# Use filter to get only words longer than 5 characters\n",
    "long_words = list(filter(longer_than_five, words))\n",
    "\n",
    "print(\"Original list of words:\", words)\n",
    "print(\"Words longer than 5 characters:\", long_words)"
   ]
  },
  {
   "cell_type": "code",
   "execution_count": 2,
   "metadata": {},
   "outputs": [
    {
     "name": "stdout",
     "output_type": "stream",
     "text": [
      "Unread emails: [{'sender': 'john@example.com', 'subject': 'Meeting Reminder', 'body': \"Don't forget our meeting tomorrow.\", 'is_read': False, 'is_spam': False}, {'sender': 'spam@example.com', 'subject': 'You won a prize!', 'body': 'Click here to claim your prize.', 'is_read': False, 'is_spam': True}, {'sender': 'john@example.com', 'subject': 'Project Update', 'body': 'The project is on track.', 'is_read': False, 'is_spam': False}]\n",
      "Non-spam emails: [{'sender': 'john@example.com', 'subject': 'Meeting Reminder', 'body': \"Don't forget our meeting tomorrow.\", 'is_read': False, 'is_spam': False}, {'sender': 'jane@example.com', 'subject': 'Hello!', 'body': 'Just wanted to say hi.', 'is_read': True, 'is_spam': False}, {'sender': 'john@example.com', 'subject': 'Project Update', 'body': 'The project is on track.', 'is_read': False, 'is_spam': False}]\n",
      "Emails from john@example.com: [{'sender': 'john@example.com', 'subject': 'Meeting Reminder', 'body': \"Don't forget our meeting tomorrow.\", 'is_read': False, 'is_spam': False}, {'sender': 'john@example.com', 'subject': 'Project Update', 'body': 'The project is on track.', 'is_read': False, 'is_spam': False}]\n"
     ]
    }
   ],
   "source": [
    "# Define a list of emails\n",
    "emails = [\n",
    "    {'sender': 'john@example.com', 'subject': 'Meeting Reminder', 'body': 'Don\\'t forget our meeting tomorrow.', 'is_read': False, 'is_spam': False},\n",
    "    {'sender': 'spam@example.com', 'subject': 'You won a prize!', 'body': 'Click here to claim your prize.', 'is_read': False, 'is_spam': True},\n",
    "    {'sender': 'jane@example.com', 'subject': 'Hello!', 'body': 'Just wanted to say hi.', 'is_read': True, 'is_spam': False},\n",
    "    {'sender': 'john@example.com', 'subject': 'Project Update', 'body': 'The project is on track.', 'is_read': False, 'is_spam': False},\n",
    "    {'sender': 'spam@example.com', 'subject': 'Limited Time Offer!', 'body': 'Buy now and save 50%.', 'is_read': True, 'is_spam': True},\n",
    "]\n",
    "\n",
    "# Define a function to filter unread emails\n",
    "def is_unread(email):\n",
    "    return not email['is_read']\n",
    "\n",
    "# Define a function to filter spam emails\n",
    "def is_not_spam(email):\n",
    "    return not email['is_spam']\n",
    "\n",
    "# Define a function to filter emails from a specific sender\n",
    "def from_sender(email, sender):\n",
    "    return email['sender'] == sender\n",
    "\n",
    "# Get unread emails\n",
    "unread_emails = list(filter(is_unread, emails))\n",
    "print(\"Unread emails:\", unread_emails)\n",
    "\n",
    "# Get non-spam emails\n",
    "non_spam_emails = list(filter(is_not_spam, emails))\n",
    "print(\"Non-spam emails:\", non_spam_emails)\n",
    "\n",
    "# Get emails from 'john@example.com'\n",
    "john_emails = list(filter(lambda email: from_sender(email, 'john@example.com'), emails))\n",
    "print(\"Emails from john@example.com:\", john_emails)"
   ]
  }
 ],
 "metadata": {
  "kernelspec": {
   "display_name": "Python 3",
   "language": "python",
   "name": "python3"
  },
  "language_info": {
   "codemirror_mode": {
    "name": "ipython",
    "version": 3
   },
   "file_extension": ".py",
   "mimetype": "text/x-python",
   "name": "python",
   "nbconvert_exporter": "python",
   "pygments_lexer": "ipython3",
   "version": "3.9.6"
  }
 },
 "nbformat": 4,
 "nbformat_minor": 2
}
