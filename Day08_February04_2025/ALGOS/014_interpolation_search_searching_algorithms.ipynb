{
 "cells": [
  {
   "cell_type": "markdown",
   "metadata": {},
   "source": [
    "# Interpolation Search\n",
    "\n",
    "Interpolation search is an algorithm for searching for a key in an array that has been ordered by numerical values assigned to the keys. It is particularly efficient for uniformly distributed arrays.\n",
    "\n",
    "## How it Works\n",
    "\n",
    "1. **Estimate the Position**: The algorithm estimates the position of the search key within the array using the formula:\n",
    "    ```\n",
    "    pos = low + ((key - arr[low]) * (high - low) / (arr[high] - arr[low]))\n",
    "    ```\n",
    "    where `low` and `high` are the indices of the current search range, and `arr` is the array.\n",
    "\n",
    "2. **Compare and Narrow Down**: Compare the value at the estimated position with the search key:\n",
    "    - If the value matches the search key, return the position.\n",
    "    - If the value is less than the search key, narrow the search range to the upper subarray.\n",
    "    - If the value is greater than the search key, narrow the search range to the lower subarray.\n",
    "\n",
    "3. **Repeat**: Repeat the process until the search key is found or the search range is empty.\n",
    "\n",
    "## Advantages\n",
    "\n",
    "- More efficient than binary search for uniformly distributed arrays.\n",
    "- Average time complexity is O(log log n) for uniformly distributed arrays.\n",
    "\n",
    "## Disadvantages\n",
    "\n",
    "- Performance degrades to O(n) in the worst case when the distribution of elements is not uniform.\n",
    "- Requires the array to be sorted."
   ]
  },
  {
   "cell_type": "code",
   "execution_count": 1,
   "metadata": {},
   "outputs": [
    {
     "name": "stdout",
     "output_type": "stream",
     "text": [
      "Element 70 is at index 6\n"
     ]
    }
   ],
   "source": [
    "def interpolation_search(arr, key):\n",
    "    low = 0\n",
    "    high = len(arr) - 1\n",
    "\n",
    "    while low <= high and key >= arr[low] and key <= arr[high]:\n",
    "        if low == high:\n",
    "            if arr[low] == key:\n",
    "                return low\n",
    "            return -1\n",
    "\n",
    "        pos = low + int(((key - arr[low]) * (high - low) / (arr[high] - arr[low])))\n",
    "\n",
    "        if arr[pos] == key:\n",
    "            return pos\n",
    "\n",
    "        if arr[pos] < key:\n",
    "            low = pos + 1\n",
    "        else:\n",
    "            high = pos - 1\n",
    "\n",
    "    return -1\n",
    "\n",
    "# Example usage\n",
    "arr = [10, 20, 30, 40, 50, 60, 70, 80, 90, 100]\n",
    "key = 70\n",
    "index = interpolation_search(arr, key)\n",
    "print(f\"Element {key} is at index {index}\")"
   ]
  },
  {
   "cell_type": "code",
   "execution_count": 2,
   "metadata": {},
   "outputs": [
    {
     "name": "stdout",
     "output_type": "stream",
     "text": [
      "Target 50 found at index: 4\n"
     ]
    }
   ],
   "source": [
    "def interpolation_search(sorted_list, target):\n",
    "    low = 0\n",
    "    high = len(sorted_list) - 1\n",
    "    \n",
    "    while low <= high:\n",
    "        if sorted_list[low] > target or sorted_list[high] < target:\n",
    "            return -1\n",
    "        \n",
    "        if sorted_list[low] == sorted_list[high]:\n",
    "            if sorted_list[low] == target:\n",
    "                return low\n",
    "            else:\n",
    "                return -1\n",
    "        \n",
    "        numerator = (high - low) * (target - sorted_list[low])\n",
    "        denominator = sorted_list[high] - sorted_list[low]\n",
    "        position = low + (numerator // denominator)\n",
    "        \n",
    "        if position < low or position > high:\n",
    "            return -1\n",
    "        \n",
    "        if sorted_list[position] == target:\n",
    "            return position\n",
    "        \n",
    "        if sorted_list[position] < target:\n",
    "            low = position + 1\n",
    "        else:\n",
    "            high = position - 1\n",
    "    \n",
    "    return -1\n",
    "\n",
    "# Example usage\n",
    "example_list = [10, 20, 30, 40, 50, 60, 70, 80, 90]\n",
    "target_value = 50\n",
    "result = interpolation_search(example_list, target_value)\n",
    "print(f\"Target {target_value} found at index: {result}\")\n"
   ]
  }
 ],
 "metadata": {
  "kernelspec": {
   "display_name": "Python 3",
   "language": "python",
   "name": "python3"
  },
  "language_info": {
   "codemirror_mode": {
    "name": "ipython",
    "version": 3
   },
   "file_extension": ".py",
   "mimetype": "text/x-python",
   "name": "python",
   "nbconvert_exporter": "python",
   "pygments_lexer": "ipython3",
   "version": "3.9.6"
  }
 },
 "nbformat": 4,
 "nbformat_minor": 2
}
