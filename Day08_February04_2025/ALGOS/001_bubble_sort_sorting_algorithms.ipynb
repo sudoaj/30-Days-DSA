{
 "cells": [
  {
   "cell_type": "markdown",
   "metadata": {},
   "source": [
    "# Bubble Sort Algorithm\n",
    "\n",
    "Bubble Sort is a simple sorting algorithm that repeatedly steps through the list, compares adjacent elements, and swaps them if they are in the wrong order. The pass through the list is repeated until the list is sorted.\n",
    "\n",
    "## How Bubble Sort Works\n",
    "\n",
    "1. **Compare Adjacent Elements**: Start with the first element and compare it with the second element.\n",
    "2. **Swap if Necessary**: If the first element is greater than the second element, swap them.\n",
    "3. **Move to the Next Pair**: Move to the next pair of adjacent elements and repeat the process.\n",
    "4. **Repeat**: Continue this process for each pair of adjacent elements until you reach the end of the list.\n",
    "5. **Pass Through the List**: After each pass through the list, the largest element will have \"bubbled up\" to its correct position.\n",
    "6. **Repeat Passes**: Repeat the entire process for the remaining elements, excluding the last sorted elements, until no more swaps are needed.\n",
    "\n",
    "## Example\n",
    "\n",
    "Consider the following list: `[5, 3, 8, 4, 2]`\n",
    "\n",
    "1. **First Pass**:\n",
    "   - Compare 5 and 3, swap: `[3, 5, 8, 4, 2]`\n",
    "   - Compare 5 and 8, no swap: `[3, 5, 8, 4, 2]`\n",
    "   - Compare 8 and 4, swap: `[3, 5, 4, 8, 2]`\n",
    "   - Compare 8 and 2, swap: `[3, 5, 4, 2, 8]`\n",
    "\n",
    "2. **Second Pass**:\n",
    "   - Compare 3 and 5, no swap: `[3, 5, 4, 2, 8]`\n",
    "   - Compare 5 and 4, swap: `[3, 4, 5, 2, 8]`\n",
    "   - Compare 5 and 2, swap: `[3, 4, 2, 5, 8]`\n",
    "   - Compare 5 and 8, no swap: `[3, 4, 2, 5, 8]`\n",
    "\n",
    "3. **Third Pass**:\n",
    "   - Compare 3 and 4, no swap: `[3, 4, 2, 5, 8]`\n",
    "   - Compare 4 and 2, swap: `[3, 2, 4, 5, 8]`\n",
    "   - Compare 4 and 5, no swap: `[3, 2, 4, 5, 8]`\n",
    "   - Compare 5 and 8, no swap: `[3, 2, 4, 5, 8]`\n",
    "\n",
    "4. **Fourth Pass**:\n",
    "   - Compare 3 and 2, swap: `[2, 3, 4, 5, 8]`\n",
    "   - Compare 3 and 4, no swap: `[2, 3, 4, 5, 8]`\n",
    "   - Compare 4 and 5, no swap: `[2, 3, 4, 5, 8]`\n",
    "   - Compare 5 and 8, no swap: `[2, 3, 4, 5, 8]`\n",
    "\n",
    "The list is now sorted.\n",
    "\n",
    "## Trick to Understanding Bubble Sort\n",
    "\n",
    "A helpful trick to understand Bubble Sort is to visualize the process as \"bubbling\" the largest unsorted element to its correct position in each pass. Imagine the largest element as a bubble that rises to the top of the list with each pass. This visualization can make it easier to grasp the concept of repeatedly comparing and swapping adjacent elements until the list is sorted.\n",
    "\n",
    "## Complexity\n",
    "\n",
    "- **Time Complexity**: O(n^2) in the worst and average case, where n is the number of elements in the list.\n",
    "- **Space Complexity**: O(1) because it is an in-place sorting algorithm.\n",
    "\n",
    "Bubble Sort is not the most efficient sorting algorithm for large datasets, but it is easy to understand and implement."
   ]
  },
  {
   "cell_type": "code",
   "execution_count": 4,
   "metadata": {},
   "outputs": [
    {
     "name": "stdout",
     "output_type": "stream",
     "text": [
      "Sorted array is: [11, 12, 22, 25, 34, 64, 90]\n"
     ]
    }
   ],
   "source": [
    "def bubble_sort(arr):\n",
    "    n = len(arr)\n",
    "    for i in range(n):\n",
    "        for j in range(0, n-i-1):\n",
    "            if arr[j] > arr[j+1]:\n",
    "                arr[j], arr[j+1] = arr[j+1], arr[j]\n",
    "    return arr\n",
    "\n",
    "# Example usage\n",
    "arr = [64, 34, 25, 12, 22, 11, 90]\n",
    "sorted_arr = bubble_sort(arr)\n",
    "print(\"Sorted array is:\", sorted_arr)"
   ]
  },
  {
   "cell_type": "code",
   "execution_count": 6,
   "metadata": {},
   "outputs": [
    {
     "name": "stdout",
     "output_type": "stream",
     "text": [
      "Sorted students by grade:\n",
      "Charlie: 70\n",
      "David: 85\n",
      "Alice: 88\n",
      "Eva: 92\n",
      "Bob: 95\n"
     ]
    }
   ],
   "source": [
    "# List of students with their names and grades\n",
    "students = [\n",
    "    {\"name\": \"Alice\", \"grade\": 88},\n",
    "    {\"name\": \"Bob\", \"grade\": 95},\n",
    "    {\"name\": \"Charlie\", \"grade\": 70},\n",
    "    {\"name\": \"David\", \"grade\": 85},\n",
    "    {\"name\": \"Eva\", \"grade\": 92}\n",
    "]\n",
    "\n",
    "# Bubble sort function to sort students by grade\n",
    "def bubble_sort_students(students):\n",
    "    n = len(students)\n",
    "    for i in range(n):\n",
    "        for j in range(0, n-i-1):\n",
    "            if students[j][\"grade\"] > students[j+1][\"grade\"]:\n",
    "                students[j], students[j+1] = students[j+1], students[j]\n",
    "    return students\n",
    "\n",
    "# Sort the students by grade\n",
    "sorted_students = bubble_sort_students(students)\n",
    "\n",
    "# Print the sorted list of students\n",
    "print(\"Sorted students by grade:\")\n",
    "for student in sorted_students:\n",
    "    print(f\"{student['name']}: {student['grade']}\")"
   ]
  },
  {
   "cell_type": "code",
   "execution_count": 7,
   "metadata": {},
   "outputs": [
    {
     "name": "stdout",
     "output_type": "stream",
     "text": [
      "Sorted array is: [11, 12, 22, 25, 34, 64, 90]\n",
      "Time taken to sort the array: 5.9604644775390625e-06 seconds\n"
     ]
    }
   ],
   "source": [
    "import time\n",
    "\n",
    "def bubble_sort_with_timing(arr):\n",
    "    start_time = time.time()\n",
    "    n = len(arr)\n",
    "    for i in range(n):\n",
    "        for j in range(0, n-i-1):\n",
    "            if arr[j] > arr[j+1]:\n",
    "                arr[j], arr[j+1] = arr[j+1], arr[j]\n",
    "    end_time = time.time()\n",
    "    duration = end_time - start_time\n",
    "    return arr, duration\n",
    "\n",
    "# Example usage\n",
    "arr = [64, 34, 25, 12, 22, 11, 90]\n",
    "sorted_arr, duration = bubble_sort_with_timing(arr)\n",
    "print(\"Sorted array is:\", sorted_arr)\n",
    "print(\"Time taken to sort the array:\", duration, \"seconds\")"
   ]
  }
 ],
 "metadata": {
  "kernelspec": {
   "display_name": "Python 3",
   "language": "python",
   "name": "python3"
  },
  "language_info": {
   "codemirror_mode": {
    "name": "ipython",
    "version": 3
   },
   "file_extension": ".py",
   "mimetype": "text/x-python",
   "name": "python",
   "nbconvert_exporter": "python",
   "pygments_lexer": "ipython3",
   "version": "3.9.6"
  }
 },
 "nbformat": 4,
 "nbformat_minor": 2
}
