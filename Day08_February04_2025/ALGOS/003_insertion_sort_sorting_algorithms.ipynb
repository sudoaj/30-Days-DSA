{
 "cells": [
  {
   "cell_type": "markdown",
   "metadata": {},
   "source": [
    "# Insertion Sort\n",
    "\n",
    "## Introduction\n",
    "Insertion Sort is a simple and intuitive comparison-based sorting algorithm. It builds the final sorted array (or list) one item at a time. It is much less efficient on large lists than more advanced algorithms such as quicksort, heapsort, or merge sort. However, it has the advantage of being simple to implement and efficient for small data sets or nearly sorted data.\n",
    "\n",
    "## How It Works\n",
    "The algorithm divides the input list into two parts: a sorted part and an unsorted part. Initially, the sorted part contains only the first element, and the unsorted part contains the rest of the elements. The algorithm then repeatedly takes the first element from the unsorted part and inserts it into the correct position in the sorted part. This process continues until the unsorted part is empty, and the entire list is sorted.\n",
    "\n",
    "## Steps\n",
    "1. **Start with the first element**: Consider the first element of the list as the sorted part.\n",
    "2. **Pick the next element**: Take the next element from the unsorted part.\n",
    "3. **Compare and shift**: Compare the picked element with the elements in the sorted part from right to left. Shift all the elements in the sorted part that are greater than the picked element to the right.\n",
    "4. **Insert the picked element**: Insert the picked element into its correct position in the sorted part.\n",
    "5. **Repeat**: Repeat steps 2-4 until all elements are sorted.\n",
    "\n",
    "## Example\n",
    "Let's sort the array `[5, 2, 9, 1, 5, 6]` using Insertion Sort:\n",
    "\n",
    "1. Start with the first element `[5]`. The sorted part is `[5]`, and the unsorted part is `[2, 9, 1, 5, 6]`.\n",
    "2. Pick the next element `2`. Compare it with `5` and insert it before `5`. The array becomes `[2, 5, 9, 1, 5, 6]`.\n",
    "3. Pick the next element `9`. It is already in the correct position. The array remains `[2, 5, 9, 1, 5, 6]`.\n",
    "4. Pick the next element `1`. Compare it with `9`, `5`, and `2`, and insert it before `2`. The array becomes `[1, 2, 5, 9, 5, 6]`.\n",
    "5. Pick the next element `5`. Compare it with `9` and `5`, and insert it before `9`. The array becomes `[1, 2, 5, 5, 9, 6]`.\n",
    "6. Pick the next element `6`. Compare it with `9` and insert it before `9`. The array becomes `[1, 2, 5, 5, 6, 9]`.\n",
    "\n",
    "Now the array is sorted.\n",
    "\n",
    "## Complexity\n",
    "- **Time Complexity**:\n",
    "  - Best Case: O(n) - when the array is already sorted.\n",
    "  - Average Case: O(n^2) - when the array elements are in random order.\n",
    "  - Worst Case: O(n^2) - when the array is sorted in reverse order.\n",
    "- **Space Complexity**: O(1) - Insertion Sort is an in-place sorting algorithm, meaning it requires only a constant amount of additional memory space.\n",
    "\n",
    "## Advantages\n",
    "- Simple to implement and understand.\n",
    "- Efficient for small data sets or nearly sorted data.\n",
    "- Stable sort: does not change the relative order of elements with equal keys.\n",
    "\n",
    "## Disadvantages\n",
    "- Inefficient for large data sets.\n",
    "- Time complexity is quadratic in the average and worst cases.\n",
    "\n",
    "## Conclusion\n",
    "Insertion Sort is a straightforward and easy-to-implement sorting algorithm that works well for small or nearly sorted data sets. While it is not suitable for large data sets due to its quadratic time complexity, it can be useful in specific scenarios where simplicity and ease of implementation are more important than performance."
   ]
  },
  {
   "cell_type": "code",
   "execution_count": 1,
   "metadata": {},
   "outputs": [
    {
     "name": "stdout",
     "output_type": "stream",
     "text": [
      "Original array: [5, 2, 9, 1, 5, 6]\n",
      "Moved 5 to position 1\n",
      "Inserted 2 at position 0\n",
      "Array now: [2, 5, 9, 1, 5, 6]\n",
      "Inserted 9 at position 2\n",
      "Array now: [2, 5, 9, 1, 5, 6]\n",
      "Moved 9 to position 3\n",
      "Moved 5 to position 2\n",
      "Moved 2 to position 1\n",
      "Inserted 1 at position 0\n",
      "Array now: [1, 2, 5, 9, 5, 6]\n",
      "Moved 9 to position 4\n",
      "Inserted 5 at position 3\n",
      "Array now: [1, 2, 5, 5, 9, 6]\n",
      "Moved 9 to position 5\n",
      "Inserted 6 at position 4\n",
      "Array now: [1, 2, 5, 5, 6, 9]\n",
      "Sorted array: [1, 2, 5, 5, 6, 9]\n"
     ]
    }
   ],
   "source": [
    "def insertion_sort_verbose(arr):\n",
    "    # Traverse through 1 to len(arr)\n",
    "    for i in range(1, len(arr)):\n",
    "        key = arr[i]\n",
    "        j = i - 1\n",
    "        # Move elements of arr[0..i-1], that are greater than key,\n",
    "        # to one position ahead of their current position\n",
    "        while j >= 0 and key < arr[j]:\n",
    "            arr[j + 1] = arr[j]\n",
    "            j -= 1\n",
    "            print(f\"Moved {arr[j + 1]} to position {j + 2}\")\n",
    "        arr[j + 1] = key\n",
    "        print(f\"Inserted {key} at position {j + 1}\")\n",
    "        print(f\"Array now: {arr}\")\n",
    "\n",
    "# Example usage\n",
    "arr = [5, 2, 9, 1, 5, 6]\n",
    "print(f\"Original array: {arr}\")\n",
    "insertion_sort_verbose(arr)\n",
    "print(f\"Sorted array: {arr}\")"
   ]
  },
  {
   "cell_type": "code",
   "execution_count": 2,
   "metadata": {},
   "outputs": [
    {
     "name": "stdout",
     "output_type": "stream",
     "text": [
      "Original array: [5, 2, 9, 1, 5, 6]\n",
      "Sorted array: [1, 2, 5, 5, 6, 9]\n"
     ]
    }
   ],
   "source": [
    "def insertion_sort(arr):\n",
    "    # Traverse through 1 to len(arr)\n",
    "    for i in range(1, len(arr)):\n",
    "        key = arr[i]\n",
    "        j = i - 1\n",
    "        # Move elements of arr[0..i-1], that are greater than key,\n",
    "        # to one position ahead of their current position\n",
    "        while j >= 0 and key < arr[j]:\n",
    "            arr[j + 1] = arr[j]\n",
    "            j -= 1\n",
    "        arr[j + 1] = key\n",
    "\n",
    "# Example usage\n",
    "arr = [5, 2, 9, 1, 5, 6]\n",
    "print(f\"Original array: {arr}\")\n",
    "insertion_sort(arr)\n",
    "print(f\"Sorted array: {arr}\")"
   ]
  }
 ],
 "metadata": {
  "kernelspec": {
   "display_name": "Python 3",
   "language": "python",
   "name": "python3"
  },
  "language_info": {
   "codemirror_mode": {
    "name": "ipython",
    "version": 3
   },
   "file_extension": ".py",
   "mimetype": "text/x-python",
   "name": "python",
   "nbconvert_exporter": "python",
   "pygments_lexer": "ipython3",
   "version": "3.9.6"
  }
 },
 "nbformat": 4,
 "nbformat_minor": 2
}
