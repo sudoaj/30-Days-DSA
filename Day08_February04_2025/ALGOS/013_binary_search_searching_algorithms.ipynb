{
 "cells": [
  {
   "cell_type": "code",
   "execution_count": 1,
   "metadata": {},
   "outputs": [
    {
     "name": "stdout",
     "output_type": "stream",
     "text": [
      "Step 1: left=0, right=9, mid=4, mid_value=5\n",
      "Step 2: left=5, right=9, mid=7, mid_value=8\n",
      "Step 3: left=5, right=6, mid=5, mid_value=6\n",
      "Step 4: left=6, right=6, mid=6, mid_value=7\n",
      "Target 7 found at index 6\n"
     ]
    },
    {
     "data": {
      "text/plain": [
       "6"
      ]
     },
     "execution_count": 1,
     "metadata": {},
     "output_type": "execute_result"
    }
   ],
   "source": [
    "def binary_search_verbose(arr, target):\n",
    "    left, right = 0, len(arr) - 1\n",
    "    step = 0\n",
    "\n",
    "    while left <= right:\n",
    "        step += 1\n",
    "        mid = (left + right) // 2\n",
    "        print(f\"Step {step}: left={left}, right={right}, mid={mid}, mid_value={arr[mid]}\")\n",
    "\n",
    "        if arr[mid] == target:\n",
    "            print(f\"Target {target} found at index {mid}\")\n",
    "            return mid\n",
    "        elif arr[mid] < target:\n",
    "            left = mid + 1\n",
    "        else:\n",
    "            right = mid - 1\n",
    "\n",
    "    print(f\"Target {target} not found in the array\")\n",
    "    return -1\n",
    "\n",
    "# Example usage:\n",
    "arr = [1, 2, 3, 4, 5, 6, 7, 8, 9, 10]\n",
    "target = 7\n",
    "binary_search_verbose(arr, target)"
   ]
  },
  {
   "cell_type": "code",
   "execution_count": 2,
   "metadata": {},
   "outputs": [
    {
     "name": "stdout",
     "output_type": "stream",
     "text": [
      "Target 7 found at index 6\n"
     ]
    }
   ],
   "source": [
    "def binary_search(arr, target):\n",
    "    left, right = 0, len(arr) - 1\n",
    "\n",
    "    while left <= right:\n",
    "        mid = (left + right) // 2\n",
    "\n",
    "        if arr[mid] == target:\n",
    "            return mid\n",
    "        elif arr[mid] < target:\n",
    "            left = mid + 1\n",
    "        else:\n",
    "            right = mid - 1\n",
    "\n",
    "    return -1\n",
    "\n",
    "# Example usage:\n",
    "result = binary_search(arr, target)\n",
    "print(f\"Target {target} found at index {result}\" if result != -1 else f\"Target {target} not found in the array\")"
   ]
  }
 ],
 "metadata": {
  "kernelspec": {
   "display_name": "Python 3",
   "language": "python",
   "name": "python3"
  },
  "language_info": {
   "codemirror_mode": {
    "name": "ipython",
    "version": 3
   },
   "file_extension": ".py",
   "mimetype": "text/x-python",
   "name": "python",
   "nbconvert_exporter": "python",
   "pygments_lexer": "ipython3",
   "version": "3.9.6"
  }
 },
 "nbformat": 4,
 "nbformat_minor": 2
}
