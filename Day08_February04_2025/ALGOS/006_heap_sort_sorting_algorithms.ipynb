{
 "cells": [
  {
   "cell_type": "code",
   "execution_count": 6,
   "metadata": {},
   "outputs": [
    {
     "name": "stdout",
     "output_type": "stream",
     "text": [
      "in right [12, 11, 13, 5, 6, 7]\n",
      "[7, 11, 12, 5, 6, 13]\n",
      "in right [7, 11, 12, 5, 6, 13]\n",
      "[6, 11, 7, 5, 12, 13]\n",
      "[5, 6, 7, 11, 12, 13]\n",
      "in right [5, 6, 7, 11, 12, 13]\n",
      "[5, 6, 7, 11, 12, 13]\n",
      "Sorted array is [5, 6, 7, 11, 12, 13]\n"
     ]
    }
   ],
   "source": [
    "def heapify(arr, n, i):\n",
    "    # Initialize largest as root\n",
    "    largest = i\n",
    "    # left = 2*i + 1\n",
    "    left = 2 * i + 1\n",
    "    # right = 2*i + 2\n",
    "    right = 2 * i + 2\n",
    "\n",
    "    # See if left child of root exists and is greater than root\n",
    "    if left < n and arr[i] < arr[left]:\n",
    "        largest = left\n",
    "\n",
    "    # See if right child of root exists and is greater than the largest so far\n",
    "    if right < n and arr[largest] < arr[right]:\n",
    "        largest = right\n",
    "\n",
    "\n",
    "\n",
    "    # Change root, if needed\n",
    "    if largest != i:\n",
    "        arr[i], arr[largest] = arr[largest], arr[i]  # swap\n",
    "\n",
    "        # Heapify the root.\n",
    "        heapify(arr, n, largest)\n",
    "\n",
    "def heap_sort(arr):\n",
    "    n = len(arr)\n",
    "\n",
    "    # Build a maxheap.\n",
    "    # Since the last parent will be at ((n//2)-1) we can start at that location.\n",
    "    for i in range(n // 2 - 1, -1, -1):\n",
    "        heapify(arr, n, i)\n",
    "\n",
    "    # One by one extract elements\n",
    "    for i in range(n - 1, 0, -1):\n",
    "        arr[i], arr[0] = arr[0], arr[i]  # swap\n",
    "        heapify(arr, i, 0)\n",
    "\n",
    "# Example usage\n",
    "arr = [12, 11, 13, 5, 6, 7]\n",
    "heap_sort(arr)\n",
    "print(\"Sorted array is\", arr)"
   ]
  }
 ],
 "metadata": {
  "kernelspec": {
   "display_name": "Python 3",
   "language": "python",
   "name": "python3"
  },
  "language_info": {
   "codemirror_mode": {
    "name": "ipython",
    "version": 3
   },
   "file_extension": ".py",
   "mimetype": "text/x-python",
   "name": "python",
   "nbconvert_exporter": "python",
   "pygments_lexer": "ipython3",
   "version": "3.9.6"
  }
 },
 "nbformat": 4,
 "nbformat_minor": 2
}
