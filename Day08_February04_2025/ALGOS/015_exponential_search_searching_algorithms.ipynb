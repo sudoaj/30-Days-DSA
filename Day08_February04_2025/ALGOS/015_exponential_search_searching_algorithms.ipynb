{
 "cells": [
  {
   "cell_type": "markdown",
   "metadata": {},
   "source": [
    "### Exponential Search\n",
    "\n",
    "Exponential search is an algorithm for searching sorted arrays. It works by finding a range where the target value is likely to be, and then performing a binary search within that range. The steps are as follows:\n",
    "\n",
    "1. Start with the first element and compare it with the target value.\n",
    "2. If the first element is the target, return its index.\n",
    "3. Otherwise, double the index and compare the element at the new index with the target value.\n",
    "4. Repeat step 3 until the element at the current index is greater than the target value or the end of the array is reached.\n",
    "5. Perform a binary search within the range defined by the previous index and the current index.\n",
    "\n",
    "Exponential search has a time complexity of O(log i), where i is the position of the target value. This makes it efficient for large, sorted arrays."
   ]
  },
  {
   "cell_type": "code",
   "execution_count": 1,
   "metadata": {},
   "outputs": [
    {
     "name": "stdout",
     "output_type": "stream",
     "text": [
      "Element found at index 3\n"
     ]
    }
   ],
   "source": [
    "def binary_search(arr, left, right, x):\n",
    "    if right >= left:\n",
    "        mid = left + (right - left) // 2\n",
    "\n",
    "        if arr[mid] == x:\n",
    "            return mid\n",
    "\n",
    "        if arr[mid] > x:\n",
    "            return binary_search(arr, left, mid - 1, x)\n",
    "\n",
    "        return binary_search(arr, mid + 1, right, x)\n",
    "\n",
    "    return -1\n",
    "\n",
    "def exponential_search(arr, n, x):\n",
    "    if arr[0] == x:\n",
    "        return 0\n",
    "\n",
    "    i = 1\n",
    "    while i < n and arr[i] <= x:\n",
    "        i = i * 2\n",
    "\n",
    "    return binary_search(arr, i // 2, min(i, n-1), x)\n",
    "\n",
    "# Example usage\n",
    "arr = [2, 3, 4, 10, 40]\n",
    "x = 10\n",
    "n = len(arr)\n",
    "result = exponential_search(arr, n, x)\n",
    "if result != -1:\n",
    "    print(f\"Element found at index {result}\")\n",
    "else:\n",
    "    print(\"Element not found in array\")"
   ]
  }
 ],
 "metadata": {
  "kernelspec": {
   "display_name": "Python 3",
   "language": "python",
   "name": "python3"
  },
  "language_info": {
   "codemirror_mode": {
    "name": "ipython",
    "version": 3
   },
   "file_extension": ".py",
   "mimetype": "text/x-python",
   "name": "python",
   "nbconvert_exporter": "python",
   "pygments_lexer": "ipython3",
   "version": "3.9.6"
  }
 },
 "nbformat": 4,
 "nbformat_minor": 2
}
