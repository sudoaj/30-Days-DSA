{
 "cells": [
  {
   "cell_type": "code",
   "execution_count": 1,
   "metadata": {},
   "outputs": [
    {
     "name": "stdout",
     "output_type": "stream",
     "text": [
      "Sum of [1, 2, 3, 4, 5] is 15\n",
      "Product of [1, 2, 3, 4, 5] is 120\n",
      "Maximum of [1, 2, 3, 4, 5] is 5\n",
      "Concatenation of ['Hello', ' ', 'World', '!'] is 'Hello World!'\n",
      "Sum of [1, 2, 3, 4, 5] with initializer 10 is 25\n"
     ]
    }
   ],
   "source": [
    "from functools import reduce\n",
    "\n",
    "# Implementation of reduce function\n",
    "def my_reduce(function, iterable, initializer=None):\n",
    "    it = iter(iterable)\n",
    "    if initializer is None:\n",
    "        value = next(it)\n",
    "    else:\n",
    "        value = initializer\n",
    "    for element in it:\n",
    "        value = function(value, element)\n",
    "    return value\n",
    "\n",
    "# Examples\n",
    "\n",
    "# Example 1: Sum of a list of numbers\n",
    "numbers = [1, 2, 3, 4, 5]\n",
    "sum_result = my_reduce(lambda x, y: x + y, numbers)\n",
    "print(f\"Sum of {numbers} is {sum_result}\")\n",
    "\n",
    "# Example 2: Product of a list of numbers\n",
    "product_result = my_reduce(lambda x, y: x * y, numbers)\n",
    "print(f\"Product of {numbers} is {product_result}\")\n",
    "\n",
    "# Example 3: Finding the maximum in a list\n",
    "max_result = my_reduce(lambda x, y: x if x > y else y, numbers)\n",
    "print(f\"Maximum of {numbers} is {max_result}\")\n",
    "\n",
    "# Example 4: Concatenating a list of strings\n",
    "strings = [\"Hello\", \" \", \"World\", \"!\"]\n",
    "concat_result = my_reduce(lambda x, y: x + y, strings)\n",
    "print(f\"Concatenation of {strings} is '{concat_result}'\")\n",
    "\n",
    "# Example 5: Using an initializer\n",
    "numbers_with_initializer = [1, 2, 3, 4, 5]\n",
    "sum_with_initializer = my_reduce(lambda x, y: x + y, numbers_with_initializer, 10)\n",
    "print(f\"Sum of {numbers_with_initializer} with initializer 10 is {sum_with_initializer}\")"
   ]
  },
  {
   "cell_type": "code",
   "execution_count": 2,
   "metadata": {},
   "outputs": [
    {
     "name": "stdout",
     "output_type": "stream",
     "text": [
      "Sum of [1, 2, 3, 4, 5] is 15\n",
      "Product of [1, 2, 3, 4, 5] is 120\n",
      "Maximum of [1, 2, 3, 4, 5] is 5\n",
      "Concatenation of ['Hello', ' ', 'World', '!'] is 'Hello World!'\n",
      "Sum of [1, 2, 3, 4, 5] with initializer 10 is 25\n"
     ]
    }
   ],
   "source": [
    "# Using the custom my_reduce function in examples\n",
    "\n",
    "# Example 1: Sum of a list of numbers\n",
    "sum_result = my_reduce(lambda x, y: x + y, numbers)\n",
    "print(f\"Sum of {numbers} is {sum_result}\")\n",
    "\n",
    "# Example 2: Product of a list of numbers\n",
    "product_result = my_reduce(lambda x, y: x * y, numbers)\n",
    "print(f\"Product of {numbers} is {product_result}\")\n",
    "\n",
    "# Example 3: Finding the maximum in a list\n",
    "max_result = my_reduce(lambda x, y: x if x > y else y, numbers)\n",
    "print(f\"Maximum of {numbers} is {max_result}\")\n",
    "\n",
    "# Example 4: Concatenating a list of strings\n",
    "concat_result = my_reduce(lambda x, y: x + y, strings)\n",
    "print(f\"Concatenation of {strings} is '{concat_result}'\")\n",
    "\n",
    "# Example 5: Using an initializer\n",
    "sum_with_initializer = my_reduce(lambda x, y: x + y, numbers_with_initializer, 10)\n",
    "print(f\"Sum of {numbers_with_initializer} with initializer 10 is {sum_with_initializer}\")"
   ]
  }
 ],
 "metadata": {
  "kernelspec": {
   "display_name": "Python 3",
   "language": "python",
   "name": "python3"
  },
  "language_info": {
   "codemirror_mode": {
    "name": "ipython",
    "version": 3
   },
   "file_extension": ".py",
   "mimetype": "text/x-python",
   "name": "python",
   "nbconvert_exporter": "python",
   "pygments_lexer": "ipython3",
   "version": "3.9.6"
  }
 },
 "nbformat": 4,
 "nbformat_minor": 2
}
